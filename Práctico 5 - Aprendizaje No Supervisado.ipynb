{
 "cells": [
  {
   "cell_type": "markdown",
   "id": "5c4d540a-e6e2-4271-95dd-33a08342e5b7",
   "metadata": {},
   "source": [
    "# Práctico 5: Aprendizaje No Supervisado\n",
    "\n",
    "## Diversificación\n",
    "Cuando se construyen carteras de inversión, se busca obtener buenos retornos mientras se limita la variabilidad de los retornos sobre el tiempo. Una forma de conseguir esto es elegir acciones que muestren diferentes \"patrones de retornos\". Para eso, es necesario agrupar a las acciones que tengan patrones similares en clusters y seleccionar nuestras inversiones a partir de ellos.\n",
    "\n",
    "Una agrupación de acciones \"natural\" viene a partir de la Industria a la cual pertenecen, algo con lo que trabajamos en el Práctico 2 para aquellas que pertenecen al índice S&P500. Consigamos esos datos nuevamente."
   ]
  },
  {
   "cell_type": "code",
   "execution_count": 1,
   "id": "af57ea48-1b28-4880-b869-f6afa454cfd0",
   "metadata": {},
   "outputs": [],
   "source": [
    "# código para traer la lista de acciones del S&P500\n"
   ]
  },
  {
   "cell_type": "markdown",
   "id": "f4375c37-3792-4a64-86fb-8199323595f9",
   "metadata": {},
   "source": [
    "## Clustering Jerárquico\n",
    "\n",
    "Realizar clustering para series de tiempo es un poco diferente a hacerlo con datos tabulares (no tanto, algunas técnicas sirven para ambos sin problemas), pero existen herramientas para poder realizarlo en SKLearn. En este caso, nos vamos a meter con el **clustering jerárquico**: vamos a generar *clusters anidados* al juntarlos o separarlos de manera sucesiva. La jerarquía se representa como un árbol o *dendrograma*, donde la raíz es el único cluster que junta a todas las acciones y las hojas representan a los clusters formados por una sola acción. Como siempre, una buena lectura para este tipo de conceptos puede ser [Wikipedia](https://en.wikipedia.org/wiki/Hierarchical_clustering)\n",
    "\n",
    "<p><a href=\"https://commons.wikimedia.org/wiki/File:Hierarchical_clustering_simple_diagram.svg#/media/File:Hierarchical_clustering_simple_diagram.svg\"><img src=\"https://upload.wikimedia.org/wikipedia/commons/thumb/a/ad/Hierarchical_clustering_simple_diagram.svg/1200px-Hierarchical_clustering_simple_diagram.svg.png\" alt=\"Hierarchical clustering simple diagram.svg\", width=300></a><br>\n",
    "\n",
    "Es posible hacer clustering jerárquico con la función con SKLearn utilizando la función [AgglomerativeClustering](https://scikit-learn.org/stable/modules/generated/sklearn.cluster.AgglomerativeClustering.html), que realiza por nosotros este proceso, a partir de clusters de una sola acción y luego los va uniendo a partir de alguna función de *linkage*, que es algún tipo de distancia entre ellos.\n",
    "\n",
    "Nuestro primer objetivo va a ser intentar recuperar las industrias a las cuales pertenecen las acciones basándonos sólo en sus patrones de **retornos**:\n",
    "\n",
    "- Elijamos 4 sectores del S&P500 y consigamos los precios de sus acciones (o algunas de ellas si son muchas) durante todo el 2020.\n",
    "- Obtengamos los retornos diarios de las acciones y apliquemos la función de clustering a ellos.\n",
    "- Generemos la visualización del dendrograma (se puede seguir el [siguiente tutorial](https://scikit-learn.org/stable/auto_examples/cluster/plot_agglomerative_dendrogram.html#sphx-glr-auto-examples-cluster-plot-agglomerative-dendrogram-py))\n",
    "- Veamos si coinciden algunas de las posibles agrupaciones de acciones con las industrias a las que pertenecen y saquemos algunas conclusiones. Se puede utilizar diferentes funciones de *linkage* para ver si alguna consigue mejores agrupaciones.\n",
    "    "
   ]
  },
  {
   "cell_type": "code",
   "execution_count": null,
   "id": "b844c604-0919-4a55-af48-48eccabf4054",
   "metadata": {},
   "outputs": [],
   "source": []
  },
  {
   "cell_type": "markdown",
   "id": "675d5153-2af3-4ec0-b11d-d74a9e652aa2",
   "metadata": {},
   "source": [
    "## Probemos los clusters!\n",
    "\n",
    "Una vez que se haya podido realizar el clustering y estemos \"conformes\", elijamos un nivel de linkage que nos permita tener 4 clusters y construyamos la siguiente estrategia de inversión:\n",
    "- Elegir una acción de cada cluster aleatoriamente\n",
    "- Invertir el 25% del dinero en cada una de ellas\n",
    "- La estrategia corre durante todo 2021 hasta finales de agosto\n",
    "- Comenzar con $10.000\n",
    "\n",
    "Grafiquemos el avance de la misma, junto al avance del S&P500 y calculemos el Sharpe Ratio de cada una de ellas."
   ]
  },
  {
   "cell_type": "code",
   "execution_count": null,
   "id": "061dd249-ad63-486a-aee0-32f73ac4fa86",
   "metadata": {},
   "outputs": [],
   "source": []
  },
  {
   "cell_type": "markdown",
   "id": "6772f175-eaf5-49f3-8e1e-04a95ff12006",
   "metadata": {},
   "source": [
    "## Agregado Opcional\n",
    "\n",
    "Si disponemos de más tiempo, podemos intentar elegir nuestras acciones desde los clusters de manera más inteligente. Por ejemplo, en vez de hacerlo de manera aleatoria, podemos elegir la que tenga la menor volatilidad, o la que tenga el mejor rendimiento predecible según algún indicador técnico o modelo que hayamos podido entrenar en los prácticos 3 y 4.\n",
    "\n",
    "También podemos hacer que la estrategia cambie de acciones por día o mes de acuerdo al criterio que se elija. Graficar nuevamente estas estrategias y compararlas con el índice."
   ]
  },
  {
   "cell_type": "code",
   "execution_count": null,
   "id": "7d2efc12-1295-4bca-9d1c-c16920647338",
   "metadata": {},
   "outputs": [],
   "source": []
  }
 ],
 "metadata": {
  "kernelspec": {
   "display_name": "Python 3",
   "language": "python",
   "name": "python3"
  },
  "language_info": {
   "codemirror_mode": {
    "name": "ipython",
    "version": 3
   },
   "file_extension": ".py",
   "mimetype": "text/x-python",
   "name": "python",
   "nbconvert_exporter": "python",
   "pygments_lexer": "ipython3",
   "version": "3.9.2"
  }
 },
 "nbformat": 4,
 "nbformat_minor": 5
}
