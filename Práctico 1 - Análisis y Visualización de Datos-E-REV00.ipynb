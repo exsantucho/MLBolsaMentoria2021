{
 "cells": [
  {
   "cell_type": "markdown",
   "metadata": {},
   "source": [
    "# Análisis de datos financieros\n",
    "\n",
    "En finanzas, la creación de un portafolio de inversiones que se adecúe a las necesidades y perfil de una persona es de gran importancia, no sólo normativa si no para que duerma un poco más tranquila por las noches.\n",
    "\n",
    "Para eso, es necesario revisar muchas variables, desde precios de activos, hasta cotizaciones de monedas o variables macroeconómicas. En este primer práctico vamos a entender un poco más sobre los precios de los activos, en particular de las acciones, y algunas formas de visualizarlos.\n",
    "\n",
    "Empecemos con la obtención de datos, a partir de lo que vimos en el Notebook Introductorio."
   ]
  },
  {
   "cell_type": "code",
   "execution_count": null,
   "metadata": {},
   "outputs": [],
   "source": [
    "from pandas_datareader import data"
   ]
  },
  {
   "cell_type": "code",
   "execution_count": null,
   "metadata": {},
   "outputs": [],
   "source": [
    "# Un ticker es la abreviación con la cual se encuentra al activo\n",
    "# cuando se busca su precio o se realiza una orden de mercado.\n",
    "tickers = ['MELI']\n",
    "\n",
    "# Definimos el rango de fechas deseado\n",
    "start_date = '2020-01-01'\n",
    "end_date = '2020-12-31'\n",
    "\n",
    "# Obtenemos un DataFrame\n",
    "df = data.DataReader(\n",
    "    tickers,\n",
    "    start=start_date, \n",
    "    end=end_date, \n",
    "    data_source='yahoo',\n",
    ")"
   ]
  },
  {
   "cell_type": "markdown",
   "metadata": {},
   "source": [
    "# Cómo seguimos?\n",
    "\n",
    "Una **acción** es un instrumento que representa la propiedad de una fracción de una empresa. Esto nos da propiedad de una proporción de los activos y sus ganancias (o pérdidas) de acuerdo a cuántas unidades se posee. Es posible comprarlas y venderlas en mercados como BYMA en Argentina o el NYSE en USA (teniendo una cuenta comitente).\n",
    "\n",
    "Por lo general, un buen recurso para aprender sobre instrumentos y estrategias de inversión en el mercado es la página de [Investopedia](https://www.investopedia.com).\n",
    "\n",
    "Las acciones que descargamos aquí arriba son las de Mercado Libre en USA."
   ]
  },
  {
   "cell_type": "code",
   "execution_count": null,
   "metadata": {},
   "outputs": [],
   "source": [
    "df.head()"
   ]
  },
  {
   "cell_type": "markdown",
   "metadata": {},
   "source": [
    "## Primer Acercamiento\n",
    "En este caso, descargamos los precios DIARIOS de la acción de Mercado Libre. Los mismos vienen en 6 columnas. Por ahora podemos ignorar la que se llama *Adj Close* y vamos a utilizar las otras cinco para realizar nuestro primer análisis (Podemos hacer un drop de la columna que no usaremos).\n",
    "\n",
    "El mercado está abierto durante los días hábiles y, para cada uno de esos días, tenemos los siguientes datos:\n",
    "- el precio al cual comenzó a operar la acción, o apertura (Open),\n",
    "- el máximo alcanzado en el día (High),\n",
    "- el mínimo (Low),\n",
    "- el precio al cual se operó por última vez la acción, o cierre (Close) y,\n",
    "- la cantidad de acciones que se intercambiaron en el día (Volume)\n",
    "\n",
    "Como primera consigna, puede ser de utilidad conseguir algunas estadísticas descriptivas de este dataset."
   ]
  },
  {
   "cell_type": "code",
   "execution_count": null,
   "metadata": {},
   "outputs": [],
   "source": [
    "# Describir el dataset"
   ]
  },
  {
   "cell_type": "markdown",
   "metadata": {},
   "source": [
    "## Gráficos de Vela\n",
    "\n",
    "![Gráfico de Vela](https://media.istockphoto.com/vectors/stock-exchange-vector-id867941110?k=6&m=867941110&s=612x612&w=0&h=zE-LBIx2hT0eNEfDnuk1EQsGuWplf_hP76ETagH_vic=)\n",
    "\n",
    "Los gráficos de vela son una buena forma de visualizar la evolución de los precios de un instrumento en cualquier intervalo de tiempo. La forma de leerlos es la siguiente:\n",
    "\n",
    "- Cada barra comprime la información de un período (en nuestro caso puede ser cada fila).\n",
    "- Si el precio de cierre es mayor al de apertura, el color de la vela es verde, caso contrario es rojo y el tope y base de la barra denotan esos precios.\n",
    "- El máximo alcanzado en el período es la parte superior de la línea y el mínimo es la parte más baja de la línea.\n",
    "- Algunos gráficos, además, tienen una visualización inferior en forma de barras para el volumen operado de cada período.\n",
    "\n",
    "Podemos hacer un gráfico de vela con el dataframe que creamos? Queda bastante lindo (e interactivo!) si lo hacemos con la librería [Plotly](https://plot.ly/python/candlestick-charts/)."
   ]
  },
  {
   "cell_type": "code",
   "execution_count": null,
   "metadata": {},
   "outputs": [],
   "source": []
  },
  {
   "cell_type": "markdown",
   "metadata": {},
   "source": [
    "## Retornos Periódicos\n",
    "\n",
    "Si bien es útil entender el comportamiento de un activo a través de sus precios, los precios no son comparables de forma directamente entre diferentes activos. Dado que son valores nominales que dependen de una serie de eventos corporativos, poco podemos decir respecto a dos compañias solo porque una cotice a 1 dólar y otra a 100.\n",
    "\n",
    "Lo importante en finanzas es conocer los RETORNOS o rendimientos de los activos y el primer paso para hacerlo es ver cuánto varía el precio de un activo desde un cierre hasta el próximo. Para eso existe el muy útil método [pct_change](https://pandas.pydata.org/docs/reference/api/pandas.DataFrame.pct_change.html).\n",
    "\n",
    "Vamos a ver qué tan útil termina siendo esto:\n",
    "- Grafiquemos la serie de tiempo (solamente plot de Pandas) de los precios de Close para dos acciones.\n",
    "- Hagamos lo mismo para los retornos de las acciones."
   ]
  },
  {
   "cell_type": "code",
   "execution_count": null,
   "metadata": {},
   "outputs": [],
   "source": []
  },
  {
   "cell_type": "markdown",
   "metadata": {},
   "source": [
    "Parece que va a ser más sencillo revisar algo en este espacio de retornos:\n",
    "\n",
    "- Veamos estadísticas básicas (media, desviación estándar, moda).\n",
    "- Hagamos un distplot de la distribución de los retornos.\n",
    "- Una afirmación que se suele hacer con los retornos diarios de activos financieros, es que se asemejan bastante a una distribución normal. Es así en este caso?\n"
   ]
  },
  {
   "cell_type": "code",
   "execution_count": null,
   "metadata": {},
   "outputs": [],
   "source": []
  },
  {
   "cell_type": "markdown",
   "metadata": {},
   "source": [
    "## Volatilidad de un activo financiero\n",
    "\n",
    "A veces, además de saber cuánto dinero se ganó o perdió con algún activo financiero, también es de utilidad saber qué tan volátil fue ese retorno. Algunos activos tienen un buen rendimiento a lo largo del tiempo, pero a cambio de que su precio experimente subidas y bajadas muy pronunciadas. Para muchas personas, esto puede ser inaceptable, porque no todas tienen una idea de cuánto tiempo pueden dejar su dinero invertido en una acción o si lo necesitarán algún día en caso de emergencia.\n",
    "\n",
    "Una buena medida de la volatilidad de un activo financiero es la **desviación estándar de sus retornos**. Podemos intentar graficar la media de los retornos vs. su volatilidad en un scatterplot. Podemos hacerlo para muchas acciones diferentes, o para ventanas de tiempo de una misma acción (usando [Rolling](https://pandas.pydata.org/docs/reference/api/pandas.DataFrame.rolling.html) para nuestro DataFrame). "
   ]
  },
  {
   "cell_type": "code",
   "execution_count": null,
   "metadata": {},
   "outputs": [],
   "source": []
  },
  {
   "cell_type": "markdown",
   "metadata": {},
   "source": [
    "## Sharpe Ratio\n",
    "\n",
    "Este cociente fue ideado por William Sharpe (economista y ganador del Premio Nobel) para ayudar a entender el retorno de una inversión comparado con el riesgo de la misma. Se puede conseguir dividiendo el exeso de retorno (la diferencia entre el retorno del activo y el de un activo libre de riesgo) de una inversión por su volatilidad. En una primera aproximación podemos asumir que el retorno libre de riesgo es Cero y simplemente tomamos el cociente rendimiento / riesgo.\n",
    "\n",
    "Este cociente se lee como \"unidades de retorno que brinda un activo por cada unidad de riesgo asumida\". De esa forma se obtiene un indicador que permite comparar activos de diferentes niveles de retorno y riesgo en un mismo espacio, y es una buena adición al gráfico de retorno vs. volatilidad como su \"hue\".\n",
    "\n",
    "Valores altos de Sharpe Ratio siempre son buscados, porque representan una muy buena relación retorno-riesgo para una inversión, pero una de las \"debilidades\" que tiene es que se asume que los retornos tienen una distribución normal (esto se cumple?). Aún así, es una métrica muy utilizada en el mundo para evaluar la fortaleza tanto de activos individuales, como conjuntos de activos e incluso estrategias de trading.\n",
    "\n",
    "Cómo podríamos modificar el scatterplot anterior para agregarlo?"
   ]
  },
  {
   "cell_type": "code",
   "execution_count": null,
   "metadata": {},
   "outputs": [],
   "source": []
  },
  {
   "cell_type": "code",
   "execution_count": null,
   "metadata": {},
   "outputs": [],
   "source": []
  }
 ],
 "metadata": {
  "kernelspec": {
   "display_name": "Python 3",
   "language": "python",
   "name": "python3"
  },
  "language_info": {
   "codemirror_mode": {
    "name": "ipython",
    "version": 3
   },
   "file_extension": ".py",
   "mimetype": "text/x-python",
   "name": "python",
   "nbconvert_exporter": "python",
   "pygments_lexer": "ipython3",
   "version": "3.6.10"
  }
 },
 "nbformat": 4,
 "nbformat_minor": 2
}
