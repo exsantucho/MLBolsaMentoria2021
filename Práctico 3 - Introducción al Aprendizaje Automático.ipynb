{
 "cells": [
  {
   "cell_type": "markdown",
   "id": "conventional-registrar",
   "metadata": {},
   "source": [
    "# Práctico 3 - Introducción al Aprendizaje Automático\n",
    "\n",
    "## Modelos de Precios de Mercado\n",
    "Queremos crear un modelo que prediga si el precio de una acción va a subir o bajar de acuerdo a información del pasado. Para ello implementaremos algunos modelos derivados de la teoria económica respecto de como valuar una activo con flujo de fondos inciertos.\n",
    "\n",
    "\n",
    "### Capital Asset Pricing Model (CAPM)\n",
    "\n",
    "El modelo de CAPM propuesto por William Sharpe a partir del desarrollo de Markowitz sobre carteras eficientes, busca predecir el retorno de un activo en función del comportamiento global del mercado, y de la relación del activo puntual con el mercado. \n",
    "\n",
    "Según este modelo, que se puede expresar de la siguiente manera: \n",
    "\n",
    "$$\n",
    "E(r_i) = r_f + \\beta  [ E(r_m) - r_f ] \n",
    "$$\n",
    "\n",
    "El retorno esperado del activo i, es igual al retorno libre de riesgo (o tasa libre de riesgo), más el exceso de retorno esperado de mercado (es decir lo que se espera que rinda el mercado por sobre la tasa libre de riesgo) escalado por un coeficiente beta. Este coeficiente beta es el conciente entre la covarianza del activo con el mercado sobre la varianza del mercado, y se interpreta como un multiplicador de riesgo de mercado.\n",
    "\n",
    "Pueden ver una explicación completa en: https://economipedia.com/definiciones/modelo-valoracion-activos-financieros-capm.html\n",
    "\n",
    "Adicionalmente, se puede agregar un término independiente como ordenada al origen alfa, que represanta una ganancia extraordinaria no explicada por la relacion con de la acción con el mercado sino por factores extraordinarios o arbitrages en caso de estrategias. De allí el famoso \"buscar alfa\" siendo una directriz de todos los portafolios managers. \n",
    "\n",
    "$$\n",
    "E(r_i) = \\alpha + r_f + \\beta  [ E(r_m) - r_f ]\n",
    "$$\n",
    "\n",
    "Para realizar este ejercicio, deberán descargar el precio de una acción y del mercado asociado (por ejemplo GOOG y NASDAQ). En ambos casos tomar los retornos y tomar una tasa libre de riesgo. A continuación, deberán probar varias regresiones para comprobar el beta, y examinar si el agregado de una ordenada al origen aporta a los resultados. La idea es que seleccionen varias acciones para modelarlo con diferentes activos. \n",
    "\n",
    "Una vez que lo hayan hecho, adionalmente responder las siguientes preguntas:\n",
    "\n",
    "1. ¿Es fácil encontrar $\\alpha$ distinto de cero?\n",
    "\n",
    "2. ¿Qué interpretación le podemos dar a $\\beta$?\n",
    "\n",
    "3. ¿En qué momento nos gustaría buscar activos con $\\beta$ > 1 y $\\beta$ < 1? ¿Qué implica tener un $\\beta$ < 0?\n",
    "\n"
   ]
  },
  {
   "cell_type": "markdown",
   "id": "169b8e36-3cd3-4bed-9359-5d405f7357ed",
   "metadata": {},
   "source": [
    "### 0) Importación de librerías"
   ]
  },
  {
   "cell_type": "code",
   "execution_count": 2,
   "id": "chinese-thirty",
   "metadata": {},
   "outputs": [],
   "source": [
    "import pandas as pd\n",
    "from pandas_datareader import data as pdr\n",
    "import matplotlib.pyplot as plt\n",
    "import yfinance as yf # Agrego esto # pip install yfinance --upgrade --no-cache-dir\n",
    "import numpy as np # Agrego esto\n",
    "import seaborn as sns\n",
    "from datetime import timedelta"
   ]
  },
  {
   "cell_type": "markdown",
   "id": "639db5da-f3ba-4047-a40d-38be12ff0922",
   "metadata": {},
   "source": [
    "### 1) Download dataframe"
   ]
  },
  {
   "cell_type": "code",
   "execution_count": 3,
   "id": "c6fc2ee0-986b-42f8-a435-f2da31b5b431",
   "metadata": {},
   "outputs": [
    {
     "name": "stdout",
     "output_type": "stream",
     "text": [
      "[*********************100%***********************]  1 of 1 completed\n",
      "[*********************100%***********************]  1 of 1 completed\n"
     ]
    },
    {
     "data": {
      "text/html": [
       "<div>\n",
       "<style scoped>\n",
       "    .dataframe tbody tr th:only-of-type {\n",
       "        vertical-align: middle;\n",
       "    }\n",
       "\n",
       "    .dataframe tbody tr th {\n",
       "        vertical-align: top;\n",
       "    }\n",
       "\n",
       "    .dataframe thead th {\n",
       "        text-align: right;\n",
       "    }\n",
       "</style>\n",
       "<table border=\"1\" class=\"dataframe\">\n",
       "  <thead>\n",
       "    <tr style=\"text-align: right;\">\n",
       "      <th></th>\n",
       "      <th>Open</th>\n",
       "      <th>High</th>\n",
       "      <th>Low</th>\n",
       "      <th>Close</th>\n",
       "      <th>Adj Close</th>\n",
       "      <th>Volume</th>\n",
       "    </tr>\n",
       "    <tr>\n",
       "      <th>Date</th>\n",
       "      <th></th>\n",
       "      <th></th>\n",
       "      <th></th>\n",
       "      <th></th>\n",
       "      <th></th>\n",
       "      <th></th>\n",
       "    </tr>\n",
       "  </thead>\n",
       "  <tbody>\n",
       "    <tr>\n",
       "      <th>2002-07-01</th>\n",
       "      <td>15.0</td>\n",
       "      <td>15.0</td>\n",
       "      <td>15.0</td>\n",
       "      <td>15.00</td>\n",
       "      <td>12.815305</td>\n",
       "      <td>1300</td>\n",
       "    </tr>\n",
       "    <tr>\n",
       "      <th>2002-07-02</th>\n",
       "      <td>15.5</td>\n",
       "      <td>16.5</td>\n",
       "      <td>15.0</td>\n",
       "      <td>15.13</td>\n",
       "      <td>12.926373</td>\n",
       "      <td>7000</td>\n",
       "    </tr>\n",
       "    <tr>\n",
       "      <th>2002-07-03</th>\n",
       "      <td>14.0</td>\n",
       "      <td>16.0</td>\n",
       "      <td>14.0</td>\n",
       "      <td>15.00</td>\n",
       "      <td>12.815305</td>\n",
       "      <td>10200</td>\n",
       "    </tr>\n",
       "    <tr>\n",
       "      <th>2002-07-05</th>\n",
       "      <td>15.0</td>\n",
       "      <td>15.0</td>\n",
       "      <td>15.0</td>\n",
       "      <td>15.00</td>\n",
       "      <td>12.815305</td>\n",
       "      <td>500</td>\n",
       "    </tr>\n",
       "    <tr>\n",
       "      <th>2002-07-08</th>\n",
       "      <td>14.0</td>\n",
       "      <td>14.0</td>\n",
       "      <td>14.0</td>\n",
       "      <td>14.00</td>\n",
       "      <td>11.960951</td>\n",
       "      <td>300</td>\n",
       "    </tr>\n",
       "  </tbody>\n",
       "</table>\n",
       "</div>"
      ],
      "text/plain": [
       "            Open  High   Low  Close  Adj Close  Volume\n",
       "Date                                                  \n",
       "2002-07-01  15.0  15.0  15.0  15.00  12.815305    1300\n",
       "2002-07-02  15.5  16.5  15.0  15.13  12.926373    7000\n",
       "2002-07-03  14.0  16.0  14.0  15.00  12.815305   10200\n",
       "2002-07-05  15.0  15.0  15.0  15.00  12.815305     500\n",
       "2002-07-08  14.0  14.0  14.0  14.00  11.960951     300"
      ]
     },
     "execution_count": 3,
     "metadata": {},
     "output_type": "execute_result"
    }
   ],
   "source": [
    "yf.pdr_override()\n",
    "\n",
    "start_date = \"2000-01-01\"\n",
    "end_date = \"2020-12-31\"\n",
    "\n",
    "df_activo = pdr.get_data_yahoo(\"GOOG\", start=start_date, end=end_date)\n",
    "df_mercado = pdr.get_data_yahoo(\"NDAQ\", start=start_date, end=end_date)\n",
    "df_mercado.head()\n",
    "# df_1['Adj Close'].plot(figsize=(16,9))"
   ]
  },
  {
   "cell_type": "markdown",
   "id": "392c3bfc-bd87-43e4-baa9-d69642edfffc",
   "metadata": {},
   "source": [
    "### 2) Determinación de retornos totales"
   ]
  },
  {
   "cell_type": "code",
   "execution_count": 4,
   "id": "21bf1fa8-4194-439e-823a-925ecd8bcae9",
   "metadata": {},
   "outputs": [
    {
     "data": {
      "text/html": [
       "<div>\n",
       "<style scoped>\n",
       "    .dataframe tbody tr th:only-of-type {\n",
       "        vertical-align: middle;\n",
       "    }\n",
       "\n",
       "    .dataframe tbody tr th {\n",
       "        vertical-align: top;\n",
       "    }\n",
       "\n",
       "    .dataframe thead th {\n",
       "        text-align: right;\n",
       "    }\n",
       "</style>\n",
       "<table border=\"1\" class=\"dataframe\">\n",
       "  <thead>\n",
       "    <tr style=\"text-align: right;\">\n",
       "      <th></th>\n",
       "      <th>Open</th>\n",
       "      <th>High</th>\n",
       "      <th>Low</th>\n",
       "      <th>Close</th>\n",
       "      <th>Adj Close</th>\n",
       "      <th>Volume</th>\n",
       "      <th>Retornos</th>\n",
       "    </tr>\n",
       "    <tr>\n",
       "      <th>Date</th>\n",
       "      <th></th>\n",
       "      <th></th>\n",
       "      <th></th>\n",
       "      <th></th>\n",
       "      <th></th>\n",
       "      <th></th>\n",
       "      <th></th>\n",
       "    </tr>\n",
       "  </thead>\n",
       "  <tbody>\n",
       "    <tr>\n",
       "      <th>2002-07-01</th>\n",
       "      <td>15.0</td>\n",
       "      <td>15.0</td>\n",
       "      <td>15.0</td>\n",
       "      <td>15.00</td>\n",
       "      <td>12.815305</td>\n",
       "      <td>1300</td>\n",
       "      <td>NaN</td>\n",
       "    </tr>\n",
       "    <tr>\n",
       "      <th>2002-07-02</th>\n",
       "      <td>15.5</td>\n",
       "      <td>16.5</td>\n",
       "      <td>15.0</td>\n",
       "      <td>15.13</td>\n",
       "      <td>12.926373</td>\n",
       "      <td>7000</td>\n",
       "      <td>0.866681</td>\n",
       "    </tr>\n",
       "    <tr>\n",
       "      <th>2002-07-03</th>\n",
       "      <td>14.0</td>\n",
       "      <td>16.0</td>\n",
       "      <td>14.0</td>\n",
       "      <td>15.00</td>\n",
       "      <td>12.815305</td>\n",
       "      <td>10200</td>\n",
       "      <td>-0.859234</td>\n",
       "    </tr>\n",
       "    <tr>\n",
       "      <th>2002-07-05</th>\n",
       "      <td>15.0</td>\n",
       "      <td>15.0</td>\n",
       "      <td>15.0</td>\n",
       "      <td>15.00</td>\n",
       "      <td>12.815305</td>\n",
       "      <td>500</td>\n",
       "      <td>0.000000</td>\n",
       "    </tr>\n",
       "    <tr>\n",
       "      <th>2002-07-08</th>\n",
       "      <td>14.0</td>\n",
       "      <td>14.0</td>\n",
       "      <td>14.0</td>\n",
       "      <td>14.00</td>\n",
       "      <td>11.960951</td>\n",
       "      <td>300</td>\n",
       "      <td>-6.666669</td>\n",
       "    </tr>\n",
       "  </tbody>\n",
       "</table>\n",
       "</div>"
      ],
      "text/plain": [
       "            Open  High   Low  Close  Adj Close  Volume  Retornos\n",
       "Date                                                            \n",
       "2002-07-01  15.0  15.0  15.0  15.00  12.815305    1300       NaN\n",
       "2002-07-02  15.5  16.5  15.0  15.13  12.926373    7000  0.866681\n",
       "2002-07-03  14.0  16.0  14.0  15.00  12.815305   10200 -0.859234\n",
       "2002-07-05  15.0  15.0  15.0  15.00  12.815305     500  0.000000\n",
       "2002-07-08  14.0  14.0  14.0  14.00  11.960951     300 -6.666669"
      ]
     },
     "execution_count": 4,
     "metadata": {},
     "output_type": "execute_result"
    }
   ],
   "source": [
    "df_activo['Retornos'] = df_activo['Adj Close'].pct_change()*100\n",
    "df_mercado['Retornos'] = df_mercado['Adj Close'].pct_change()*100\n",
    "df_mercado.head()"
   ]
  },
  {
   "cell_type": "code",
   "execution_count": 5,
   "id": "93a9627b-3fde-4662-8e2b-32ab1fe5df85",
   "metadata": {},
   "outputs": [
    {
     "data": {
      "text/html": [
       "<div>\n",
       "<style scoped>\n",
       "    .dataframe tbody tr th:only-of-type {\n",
       "        vertical-align: middle;\n",
       "    }\n",
       "\n",
       "    .dataframe tbody tr th {\n",
       "        vertical-align: top;\n",
       "    }\n",
       "\n",
       "    .dataframe thead th {\n",
       "        text-align: right;\n",
       "    }\n",
       "</style>\n",
       "<table border=\"1\" class=\"dataframe\">\n",
       "  <thead>\n",
       "    <tr style=\"text-align: right;\">\n",
       "      <th></th>\n",
       "      <th>retornos_activo</th>\n",
       "      <th>retornos_mercado</th>\n",
       "    </tr>\n",
       "    <tr>\n",
       "      <th>Date</th>\n",
       "      <th></th>\n",
       "      <th></th>\n",
       "    </tr>\n",
       "  </thead>\n",
       "  <tbody>\n",
       "    <tr>\n",
       "      <th>2004-08-20</th>\n",
       "      <td>7.942987</td>\n",
       "      <td>2.500062</td>\n",
       "    </tr>\n",
       "    <tr>\n",
       "      <th>2004-08-23</th>\n",
       "      <td>1.006371</td>\n",
       "      <td>-0.813049</td>\n",
       "    </tr>\n",
       "    <tr>\n",
       "      <th>2004-08-24</th>\n",
       "      <td>-4.140761</td>\n",
       "      <td>0.000000</td>\n",
       "    </tr>\n",
       "    <tr>\n",
       "      <th>2004-08-25</th>\n",
       "      <td>1.077523</td>\n",
       "      <td>0.000000</td>\n",
       "    </tr>\n",
       "    <tr>\n",
       "      <th>2004-08-26</th>\n",
       "      <td>1.801882</td>\n",
       "      <td>-0.819659</td>\n",
       "    </tr>\n",
       "  </tbody>\n",
       "</table>\n",
       "</div>"
      ],
      "text/plain": [
       "            retornos_activo  retornos_mercado\n",
       "Date                                         \n",
       "2004-08-20         7.942987          2.500062\n",
       "2004-08-23         1.006371         -0.813049\n",
       "2004-08-24        -4.140761          0.000000\n",
       "2004-08-25         1.077523          0.000000\n",
       "2004-08-26         1.801882         -0.819659"
      ]
     },
     "execution_count": 5,
     "metadata": {},
     "output_type": "execute_result"
    }
   ],
   "source": [
    "# Graficación\n",
    "retornos_concat = pd.concat([df_activo['Retornos'], df_mercado['Retornos']], axis=1, keys=['retornos_activo', 'retornos_mercado'])\n",
    "retornos_concat.dropna(inplace=True) # descarto fechas en que tengo NaN en algún retorno\n",
    "retornos_concat.head()\n",
    "\n",
    "# ver de hacer dropna antes de hacer pct_change"
   ]
  },
  {
   "cell_type": "markdown",
   "id": "cb605eb1-e61d-43df-aa1a-603c5c9cd801",
   "metadata": {},
   "source": [
    "El dataset `retorno_concat` sería el dataset de `train + validation + test`"
   ]
  },
  {
   "cell_type": "code",
   "execution_count": 6,
   "id": "4a3fda5e-92a8-4b3b-86a9-71730a73f9e0",
   "metadata": {},
   "outputs": [
    {
     "data": {
      "image/png": "[encoded data removed]",
      "text/plain": [
       "<Figure size 432x288 with 1 Axes>"
      ]
     },
     "metadata": {
      "needs_background": "light"
     },
     "output_type": "display_data"
    }
   ],
   "source": [
    "ax = sns.scatterplot(data=retornos_concat, x='retornos_activo', y='retornos_mercado')"
   ]
  },
  {
   "cell_type": "markdown",
   "id": "d3765987-6aba-42a4-84a0-51bef07ae30f",
   "metadata": {},
   "source": [
    "### 3.1 ) Determinación de beta: Método mínimos cuadrados [Fórmula cerrada Modelo Lineal]"
   ]
  },
  {
   "cell_type": "markdown",
   "id": "df6845ab-d9e4-414f-b17a-5a08ea4166d1",
   "metadata": {},
   "source": [
    "### Regresión lineal"
   ]
  },
  {
   "cell_type": "code",
   "execution_count": 7,
   "id": "26a8ff78-6b4b-4919-9ba1-e1b9f01c2544",
   "metadata": {},
   "outputs": [
    {
     "name": "stdout",
     "output_type": "stream",
     "text": [
      "beta = 0.32626681787945144\n",
      "correlation = 0.4152904414742563\n"
     ]
    }
   ],
   "source": [
    "# VER HOJA ESCRITA A MANO\n",
    "# Adopto una tasa libre de riesgo (1%) PREGUNTA: Cómo se elige este valor?\n",
    "# En EEUU se usa la tasa de los bonos que es más cercana a la taasa riskfree. En principio r_f puede ser = 0\n",
    "r_f = 0.01\n",
    "\n",
    "train_test = retornos_concat\n",
    "x_i = np.array(train_test['retornos_mercado'].values - r_f)\n",
    "y_i = np.array(train_test['retornos_activo'].values - r_f)\n",
    "\n",
    "beta = sum(y_i * x_i)/ sum(x_i**2)\n",
    "y_i_pred = beta*x_i\n",
    "\n",
    "correlation = np.corrcoef(y_i, y_i_pred)[0,1]\n",
    "\n",
    "print('beta =', beta)\n",
    "print('correlation =', correlation)"
   ]
  },
  {
   "cell_type": "markdown",
   "id": "0d212849-f0ee-4c91-83b9-01c2e8fe7cc4",
   "metadata": {},
   "source": [
    "### Graficación"
   ]
  },
  {
   "cell_type": "code",
   "execution_count": 8,
   "id": "22a81c41-e3d9-4306-91cb-e38a59786189",
   "metadata": {},
   "outputs": [
    {
     "data": {
      "text/plain": [
       "<matplotlib.legend.Legend at 0x221b3e8a320>"
      ]
     },
     "execution_count": 8,
     "metadata": {},
     "output_type": "execute_result"
    },
    {
     "data": {
      "image/png": "[encoded data removed]",
      "text/plain": [
       "<Figure size 432x432 with 1 Axes>"
      ]
     },
     "metadata": {
      "needs_background": "light"
     },
     "output_type": "display_data"
    }
   ],
   "source": [
    "plt.figure(figsize=(6, 6))\n",
    "plt.scatter(data=retornos_concat, x='retornos_activo', y='retornos_mercado', color=\"blue\", label='train')\n",
    "plt.plot(x_i, y_i_pred, color='red', label='model')\n",
    "plt.legend()"
   ]
  },
  {
   "cell_type": "markdown",
   "id": "edf5a585-0ff3-4a94-8658-721b8da008b1",
   "metadata": {},
   "source": [
    "### 3.2 ) Determinación de beta: Método mínimos cuadrados [Entrenamiento]"
   ]
  },
  {
   "cell_type": "markdown",
   "id": "074fa5fa-0d05-4dbe-a157-aa276dbbfe06",
   "metadata": {},
   "source": [
    "### Separación de datasets: train, validation, test"
   ]
  },
  {
   "cell_type": "code",
   "execution_count": 9,
   "id": "b3217aa5-b7b2-4b6d-9e1d-8e70512e5a4b",
   "metadata": {},
   "outputs": [
    {
     "data": {
      "text/html": [
       "<div>\n",
       "<style scoped>\n",
       "    .dataframe tbody tr th:only-of-type {\n",
       "        vertical-align: middle;\n",
       "    }\n",
       "\n",
       "    .dataframe tbody tr th {\n",
       "        vertical-align: top;\n",
       "    }\n",
       "\n",
       "    .dataframe thead th {\n",
       "        text-align: right;\n",
       "    }\n",
       "</style>\n",
       "<table border=\"1\" class=\"dataframe\">\n",
       "  <thead>\n",
       "    <tr style=\"text-align: right;\">\n",
       "      <th></th>\n",
       "      <th>Date</th>\n",
       "      <th>retornos_activo</th>\n",
       "      <th>retornos_mercado</th>\n",
       "    </tr>\n",
       "  </thead>\n",
       "  <tbody>\n",
       "    <tr>\n",
       "      <th>0</th>\n",
       "      <td>2004-08-20</td>\n",
       "      <td>7.942987</td>\n",
       "      <td>2.500062</td>\n",
       "    </tr>\n",
       "    <tr>\n",
       "      <th>1</th>\n",
       "      <td>2004-08-23</td>\n",
       "      <td>1.006371</td>\n",
       "      <td>-0.813049</td>\n",
       "    </tr>\n",
       "    <tr>\n",
       "      <th>2</th>\n",
       "      <td>2004-08-24</td>\n",
       "      <td>-4.140761</td>\n",
       "      <td>0.000000</td>\n",
       "    </tr>\n",
       "    <tr>\n",
       "      <th>3</th>\n",
       "      <td>2004-08-25</td>\n",
       "      <td>1.077523</td>\n",
       "      <td>0.000000</td>\n",
       "    </tr>\n",
       "    <tr>\n",
       "      <th>4</th>\n",
       "      <td>2004-08-26</td>\n",
       "      <td>1.801882</td>\n",
       "      <td>-0.819659</td>\n",
       "    </tr>\n",
       "  </tbody>\n",
       "</table>\n",
       "</div>"
      ],
      "text/plain": [
       "        Date  retornos_activo  retornos_mercado\n",
       "0 2004-08-20         7.942987          2.500062\n",
       "1 2004-08-23         1.006371         -0.813049\n",
       "2 2004-08-24        -4.140761          0.000000\n",
       "3 2004-08-25         1.077523          0.000000\n",
       "4 2004-08-26         1.801882         -0.819659"
      ]
     },
     "execution_count": 9,
     "metadata": {},
     "output_type": "execute_result"
    }
   ],
   "source": [
    "data_train = train_test\n",
    "data_train.reset_index(level='Date', inplace=True)\n",
    "data_train.set_index('Date')\n",
    "\n",
    "# data_train['Date'] = pd.to_datetime(data_train['Date'])\n",
    "data_train.head()\n",
    "\n",
    "# Puedo usar sólo train. A lo sumo usar train y test. Se suele hacer cross validation"
   ]
  },
  {
   "cell_type": "code",
   "execution_count": 10,
   "id": "c7d1b21b-dc5c-41ec-8524-b5bf9c982408",
   "metadata": {},
   "outputs": [
    {
     "data": {
      "text/plain": [
       "(Timestamp('2004-08-20 00:00:00'), Timestamp('2020-12-30 00:00:00'))"
      ]
     },
     "execution_count": 10,
     "metadata": {},
     "output_type": "execute_result"
    }
   ],
   "source": [
    "data_train.Date.min(), data_train.Date.max()"
   ]
  },
  {
   "cell_type": "code",
   "execution_count": 11,
   "id": "b9733138-1e26-449e-bd18-27f196fa80d6",
   "metadata": {},
   "outputs": [
    {
     "name": "stdout",
     "output_type": "stream",
     "text": [
      "2020-11-16 2020-10-03\n"
     ]
    }
   ],
   "source": [
    "# Seperación temporal (últimos ~30 días para test y penúltimos ~30 días para validación)\n",
    "split_test_date = (pd.to_datetime(data_train.Date).max()-timedelta(days=44)).date()\n",
    "split_val_date = (pd.to_datetime(data_train.Date).max()-timedelta(days=88)).date()\n",
    "print(split_test_date, split_val_date)\n",
    "\n",
    "# CORREGIR CÓMO TOMA LOS DÍAS PORQUE SON DÍAS HÁBILES NO CORRIDOS!!!\n",
    "# sklearn función split para series temporales"
   ]
  },
  {
   "cell_type": "code",
   "execution_count": 12,
   "id": "36bf62f6-c007-46fb-bd7d-e4ac445176ef",
   "metadata": {},
   "outputs": [
    {
     "name": "stdout",
     "output_type": "stream",
     "text": [
      "Tamaños data_test: 30 , data_val: 31 , data_train: 4059\n"
     ]
    }
   ],
   "source": [
    "# Separación de los últimos 30 días para test\n",
    "data_test = data_train.loc[(data_train.Date > str(split_test_date))]\n",
    "\n",
    "# Separación de los penúltimos 30 días para validación\n",
    "data_val = data_train.loc[(data_train.Date > str(split_val_date)) & (data_train.Date <= str(split_test_date))]\n",
    "\n",
    "# Uso el resto como entrenamiento\n",
    "data_train = data_train.loc[(data_train.Date <= str(split_val_date))]\n",
    "\n",
    "print('Tamaños data_test:', data_test.shape[0], ', data_val:' , data_val.shape[0], ', data_train:', data_train.shape[0])"
   ]
  },
  {
   "cell_type": "code",
   "execution_count": 13,
   "id": "d9d78b72-c7c3-4e94-b8a2-2470a7e33e8b",
   "metadata": {},
   "outputs": [],
   "source": [
    "# data_test.set_index('Date', inplace=True)\n",
    "# data_val.set_index('Date', inplace=True)\n",
    "# data_train.set_index('Date', inplace=True)"
   ]
  },
  {
   "cell_type": "code",
   "execution_count": 14,
   "id": "7b4e15d9-1cef-42c0-ac8b-92c24e664ef8",
   "metadata": {},
   "outputs": [
    {
     "data": {
      "text/html": [
       "<div>\n",
       "<style scoped>\n",
       "    .dataframe tbody tr th:only-of-type {\n",
       "        vertical-align: middle;\n",
       "    }\n",
       "\n",
       "    .dataframe tbody tr th {\n",
       "        vertical-align: top;\n",
       "    }\n",
       "\n",
       "    .dataframe thead th {\n",
       "        text-align: right;\n",
       "    }\n",
       "</style>\n",
       "<table border=\"1\" class=\"dataframe\">\n",
       "  <thead>\n",
       "    <tr style=\"text-align: right;\">\n",
       "      <th></th>\n",
       "      <th>Date</th>\n",
       "      <th>retornos_activo</th>\n",
       "      <th>retornos_mercado</th>\n",
       "    </tr>\n",
       "  </thead>\n",
       "  <tbody>\n",
       "    <tr>\n",
       "      <th>4090</th>\n",
       "      <td>2020-11-17</td>\n",
       "      <td>-0.630409</td>\n",
       "      <td>-0.955942</td>\n",
       "    </tr>\n",
       "    <tr>\n",
       "      <th>4091</th>\n",
       "      <td>2020-11-18</td>\n",
       "      <td>-1.320227</td>\n",
       "      <td>-1.286899</td>\n",
       "    </tr>\n",
       "    <tr>\n",
       "      <th>4092</th>\n",
       "      <td>2020-11-19</td>\n",
       "      <td>0.981235</td>\n",
       "      <td>1.654042</td>\n",
       "    </tr>\n",
       "    <tr>\n",
       "      <th>4093</th>\n",
       "      <td>2020-11-20</td>\n",
       "      <td>-1.231921</td>\n",
       "      <td>1.258414</td>\n",
       "    </tr>\n",
       "    <tr>\n",
       "      <th>4094</th>\n",
       "      <td>2020-11-23</td>\n",
       "      <td>-0.420732</td>\n",
       "      <td>-0.253308</td>\n",
       "    </tr>\n",
       "  </tbody>\n",
       "</table>\n",
       "</div>"
      ],
      "text/plain": [
       "           Date  retornos_activo  retornos_mercado\n",
       "4090 2020-11-17        -0.630409         -0.955942\n",
       "4091 2020-11-18        -1.320227         -1.286899\n",
       "4092 2020-11-19         0.981235          1.654042\n",
       "4093 2020-11-20        -1.231921          1.258414\n",
       "4094 2020-11-23        -0.420732         -0.253308"
      ]
     },
     "execution_count": 14,
     "metadata": {},
     "output_type": "execute_result"
    }
   ],
   "source": [
    "data_test.head()"
   ]
  },
  {
   "cell_type": "markdown",
   "id": "89ad9bc0-5e44-45ef-b979-a0040cc000af",
   "metadata": {},
   "source": [
    "### Regresión lineal"
   ]
  },
  {
   "cell_type": "code",
   "execution_count": 15,
   "id": "c8fed351-06cd-458d-a546-aae7911a78c9",
   "metadata": {},
   "outputs": [],
   "source": [
    "# Adopto una tasa libre de riesgo (1%) PREGUNTA: Cómo se elige este valor?\n",
    "r_f = 0.01\n",
    "\n",
    "X_train = np.array(data_train['retornos_mercado'].values - r_f)\n",
    "y_train = np.array(data_train['retornos_activo'].values - r_f)\n",
    "\n",
    "X_val = np.array(data_val['retornos_mercado'].values - r_f)\n",
    "y_val = np.array(data_val['retornos_activo'].values - r_f)\n",
    "\n",
    "X_test = np.array(data_val['retornos_mercado'].values - r_f)\n",
    "y_test = np.array(data_val['retornos_activo'].values - r_f)"
   ]
  },
  {
   "cell_type": "code",
   "execution_count": 16,
   "id": "8f0ad5ee-3d3e-4ba7-be18-31802105367b",
   "metadata": {},
   "outputs": [
    {
     "data": {
      "text/plain": [
       "(4059,)"
      ]
     },
     "execution_count": 16,
     "metadata": {},
     "output_type": "execute_result"
    }
   ],
   "source": [
    "X_train.shape"
   ]
  },
  {
   "cell_type": "code",
   "execution_count": 17,
   "id": "b6616038-724e-4ed9-812c-7d0b74d278c2",
   "metadata": {},
   "outputs": [],
   "source": [
    "def linear_least_squares(X, y, add_bias=True):\n",
    "    \n",
    "    if add_bias:\n",
    "        X_b = np.stack((X, np.ones(X.shape[0])), axis=1)  # add bias\n",
    "    else:\n",
    "        X_b = np.stack((X, np.zeros(X.shape[0])), axis=1) # anulo bias\n",
    "        \n",
    "    return np.linalg.pinv(X_b.T.dot(X_b)).dot(X_b.T.dot(y))\n",
    "\n",
    "# ---------------------------------------------------------------- #\n",
    "\n",
    "def f(X, w, add_bias=True):\n",
    "    \n",
    "    if add_bias:\n",
    "        X_b = np.stack((X, np.ones(X.shape[0])), axis=1)  # add bias: (1, x)\n",
    "    else:\n",
    "        X_b = np.stack((X, np.zeros(X.shape[0])), axis=1) # anulo bias\n",
    "        \n",
    "    return X_b.dot(w)"
   ]
  },
  {
   "cell_type": "markdown",
   "id": "603eecb4-3423-46ee-9678-a36996526123",
   "metadata": {},
   "source": [
    "### Entrenamiento"
   ]
  },
  {
   "cell_type": "code",
   "execution_count": 18,
   "id": "1d5b3a82-30e2-4452-9203-869e3158ebe6",
   "metadata": {},
   "outputs": [],
   "source": [
    "w = linear_least_squares(X_train, y_train, add_bias=False)"
   ]
  },
  {
   "cell_type": "code",
   "execution_count": 19,
   "id": "eddb362b-b401-47cc-9489-61e178fdb589",
   "metadata": {},
   "outputs": [
    {
     "data": {
      "text/plain": [
       "array([0.32515089, 0.        ])"
      ]
     },
     "execution_count": 19,
     "metadata": {},
     "output_type": "execute_result"
    }
   ],
   "source": [
    "w"
   ]
  },
  {
   "cell_type": "markdown",
   "id": "173b39c8-93b5-4e05-975d-8440ce36d542",
   "metadata": {},
   "source": [
    "Para el modelo CAPM serían `alpha` y `beta`"
   ]
  },
  {
   "cell_type": "markdown",
   "id": "e1bd82ab-e29f-498c-ac0f-80c4f11b7b92",
   "metadata": {},
   "source": [
    "### Graficación"
   ]
  },
  {
   "cell_type": "code",
   "execution_count": 20,
   "id": "062fb1d6-039e-49a2-9934-4eb16cbbdffc",
   "metadata": {},
   "outputs": [
    {
     "data": {
      "image/png": "[encoded data removed]",
      "text/plain": [
       "<Figure size 432x288 with 1 Axes>"
      ]
     },
     "metadata": {
      "needs_background": "light"
     },
     "output_type": "display_data"
    }
   ],
   "source": [
    "plt.scatter(X_train, y_train, color=\"blue\", label=\"train\")\n",
    "plt.scatter(X_val, y_val, color=\"white\", edgecolor=\"k\", label=\"validation\")\n",
    "plt.plot(X_val, f(X_val, w), color=\"red\", label=\"model\")\n",
    "plt.legend()\n",
    "plt.show()"
   ]
  },
  {
   "cell_type": "markdown",
   "id": "2fc96d29-a984-4d48-8c0b-d5d452513a04",
   "metadata": {},
   "source": [
    "### Evaluación en entrenamiento: Error Cuadrático Medio"
   ]
  },
  {
   "cell_type": "markdown",
   "id": "2e69ff16-9324-4f20-8868-4f1d63d53ba9",
   "metadata": {},
   "source": [
    "Se obtienen los valores predichos para los datos de entrenamiento y de validación. Calcularemos el error cuadrático medio sobre ambos conjuntos de datos. Luego haremos la predicción sobre el conjunto de testeo y calcularemos también el erro cuadrático medio.\n",
    "\n"
   ]
  },
  {
   "cell_type": "code",
   "execution_count": 21,
   "id": "853abeda-207d-4681-9bc1-635571032a0d",
   "metadata": {},
   "outputs": [],
   "source": [
    "y_train_pred = f(X_train, w, add_bias=False)\n",
    "y_val_pred = f(X_val, w, add_bias=False)"
   ]
  },
  {
   "cell_type": "code",
   "execution_count": 22,
   "id": "4eaad669-5172-4af5-b0ba-49a493e399f6",
   "metadata": {},
   "outputs": [
    {
     "name": "stdout",
     "output_type": "stream",
     "text": [
      "Train error: 3.079956\n",
      "Val error: 3.938921\n"
     ]
    }
   ],
   "source": [
    "from sklearn.metrics import mean_squared_error\n",
    "\n",
    "train_error = mean_squared_error(y_train, y_train_pred)\n",
    "val_error = mean_squared_error(y_val, y_val_pred)\n",
    "print(f'Train error: {train_error:f}')\n",
    "print(f'Val error: {val_error:f}')"
   ]
  },
  {
   "cell_type": "markdown",
   "id": "ab26a265-c177-4bf8-88f8-704ac82e8050",
   "metadata": {},
   "source": [
    "### Predicción y evaluación: Error Cuadrático Medio"
   ]
  },
  {
   "cell_type": "code",
   "execution_count": 23,
   "id": "956fe1eb-86dd-44a9-8f0b-69dff8605239",
   "metadata": {},
   "outputs": [],
   "source": [
    "y_train_pred = f(X_train, w, add_bias=False)\n",
    "y_test_pred = f(X_test, w, add_bias=False)"
   ]
  },
  {
   "cell_type": "code",
   "execution_count": 24,
   "id": "37b301d8-24f4-4492-8d54-f52f67d74924",
   "metadata": {},
   "outputs": [
    {
     "name": "stdout",
     "output_type": "stream",
     "text": [
      "Train error: 3.079956\n",
      "Val error: 3.938921\n"
     ]
    }
   ],
   "source": [
    "from sklearn.metrics import mean_squared_error\n",
    "\n",
    "train_error = mean_squared_error(y_train, y_train_pred)\n",
    "test_error = mean_squared_error(y_test, y_test_pred)\n",
    "print(f'Train error: {train_error:f}')\n",
    "print(f'Val error: {test_error:f}')"
   ]
  },
  {
   "cell_type": "code",
   "execution_count": 25,
   "id": "29e6212d-64d6-4743-96fa-20036b660e1c",
   "metadata": {},
   "outputs": [],
   "source": [
    "# CONSULTAR POR QUE DAN IGUAL??? ESTÁ BIEN PLANTEADO CONCEPTUALMENTE EL CALCULO DE ERROR DE VALIDACION Y TEST???"
   ]
  },
  {
   "cell_type": "markdown",
   "id": "8c0d33ee-0eef-4b56-a983-2f1d2b089b60",
   "metadata": {},
   "source": [
    "### 4.1 ) Determinación de alpha y beta: Método mínimos cuadrados [Fórmula cerrada Modelo Lineal]"
   ]
  },
  {
   "cell_type": "markdown",
   "id": "981ad608-6541-42fb-81ef-532e14e94564",
   "metadata": {},
   "source": [
    "### Regresión lineal"
   ]
  },
  {
   "cell_type": "code",
   "execution_count": 26,
   "id": "0656770b-e510-4d4f-8c4b-c7ac630ccc40",
   "metadata": {},
   "outputs": [
    {
     "name": "stdout",
     "output_type": "stream",
     "text": [
      "alpha = 0.06260660132086379\n",
      "beta = 0.32525065532946357\n",
      "correlation = 0.4152904414742564\n"
     ]
    }
   ],
   "source": [
    "# VER HOJA ESCRITA A MANO\n",
    "# Adopto una tasa libre de riesgo (1%) PREGUNTA: Cómo se elige este valor?\n",
    "r_f = 0.01\n",
    "\n",
    "train_test = retornos_concat\n",
    "x_i = np.array(train_test['retornos_mercado'].values - r_f)\n",
    "y_i = np.array(train_test['retornos_activo'].values - r_f)\n",
    "n = len(x_i)\n",
    "\n",
    "beta = (sum(y_i * x_i) - n * np.mean(y_i) * np.mean(x_i))/ (sum(x_i**2) - n * (np.mean(x_i)**2))\n",
    "alpha = np.mean(y_i) - beta * np.mean(x_i)\n",
    "\n",
    "y_i_pred = alpha + beta * x_i\n",
    "\n",
    "correlation = np.corrcoef(y_i, y_i_pred)[0,1]\n",
    "\n",
    "print('alpha =', alpha)\n",
    "print('beta =', beta)\n",
    "print('correlation =', correlation)"
   ]
  },
  {
   "cell_type": "markdown",
   "id": "c23c98d5-89af-4445-814a-1bb47820881d",
   "metadata": {},
   "source": [
    "### Graficación"
   ]
  },
  {
   "cell_type": "code",
   "execution_count": 27,
   "id": "d87223b3-0dd6-421f-b199-48855e03291a",
   "metadata": {},
   "outputs": [
    {
     "data": {
      "text/plain": [
       "<matplotlib.legend.Legend at 0x221b44bbd30>"
      ]
     },
     "execution_count": 27,
     "metadata": {},
     "output_type": "execute_result"
    },
    {
     "data": {
      "image/png": "[encoded data removed]",
      "text/plain": [
       "<Figure size 432x432 with 1 Axes>"
      ]
     },
     "metadata": {
      "needs_background": "light"
     },
     "output_type": "display_data"
    }
   ],
   "source": [
    "plt.figure(figsize=(6, 6))\n",
    "plt.scatter(data=retornos_concat, x='retornos_activo', y='retornos_mercado', color=\"blue\", label='train')\n",
    "plt.plot(x_i, y_i_pred, color='red', label='model')\n",
    "plt.legend()"
   ]
  },
  {
   "cell_type": "markdown",
   "id": "dac43eb5-f83d-4822-a44f-c98c35c4abcd",
   "metadata": {},
   "source": [
    "### 4.2 ) Determinación de alpha y beta: Método mínimos cuadrados [Entrenamiento]"
   ]
  },
  {
   "cell_type": "markdown",
   "id": "a91ad58e-694e-4a96-b1c4-f8eb1292f80f",
   "metadata": {},
   "source": [
    "REPETIR LO MISMO QUE PASOS 3.1) PERO LLAMANDO LAS FUNCIONES DE LA SIGUIENTE MANERA (con add_bias=True para\n",
    "que el modelo considere el término de ordenada al origen):\n",
    "\n",
    "linear_least_squares(X, y, add_bias=True)\n",
    "\n",
    "f(X, w, add_bias=True)"
   ]
  },
  {
   "cell_type": "markdown",
   "id": "novel-double",
   "metadata": {},
   "source": [
    "### Modelos Autorregresivos para predecir precios.\n",
    "\n",
    "Para esta parte del práctico, nos gustaría utilizar precios del pasado para poder estimar cuál va a ser el precio de una acción más adelante. Las regresiones que vemos en la introducción al aprendizaje automático no son las mismas que deben usarse cuando estamos trabajando con precios de mercado, ya que estos datos son series de tiempo. Para trabajar con este tipo de datos, es necesario generar **modelos autorregresivos**.\n",
    "\n",
    "Si suponemos que $y_t$ es el precio de nuestra acción en el tiempo $t$, podemos generar el siguiente modelo autorregresivo:\n",
    "\n",
    "$$\n",
    "y_t = \\delta + \\phi_1 y_{t-1} + \\dots + \\phi_p y_{t-p} + \\epsilon_t\n",
    "$$\n",
    "\n",
    "Existen otras variables que podemos agregar (como estacionariedad o tendencias), pero para este práctico podemos usar solamente el modelo `AutoReg` de la librería StatsModels: https://www.statsmodels.org/stable/examples/notebooks/generated/autoregressions.html.\n",
    "\n",
    "El **ejercicio** para esta sección es crear una función que reciba 4 parámetros:\n",
    "- El *ticker* de un activo.\n",
    "- Una *fecha* a partir de la cual se van a querer predecir los precios del activo.\n",
    "- Un *número de días* hacia atrás que se van a usar para ajustar el modelo autorregresivo.\n",
    "- Un *número de días* hacia adelante para los cuales van a querer predecir el precio del activo utilizando el modelo entrenado.\n",
    "\n",
    "Esta función se debe encargar de buscar los precios del ticker, realizar el ajuste y predecir el precio de la acción hacia delante. Además, debe devolver el [error cuadrático medio](https://es.wikipedia.org/wiki/Error_cuadr%C3%A1tico_medio) de la predicción, comparado con los verdaderos precios del activo.\n",
    "\n",
    "¿Qué pasa si tratamos de predecir el precio del SPY el día antes del primer cisne negro de 2020 con un modelo que use 15 días hacia atrás?"
   ]
  },
  {
   "cell_type": "markdown",
   "id": "daff9b1b-90a4-4be6-bf31-a8db0513738b",
   "metadata": {},
   "source": [
    "### 0) Importación de datos"
   ]
  },
  {
   "cell_type": "code",
   "execution_count": 41,
   "id": "fabulous-empty",
   "metadata": {},
   "outputs": [
    {
     "name": "stdout",
     "output_type": "stream",
     "text": [
      "[*********************100%***********************]  1 of 1 completed\n"
     ]
    },
    {
     "data": {
      "text/html": [
       "<div>\n",
       "<style scoped>\n",
       "    .dataframe tbody tr th:only-of-type {\n",
       "        vertical-align: middle;\n",
       "    }\n",
       "\n",
       "    .dataframe tbody tr th {\n",
       "        vertical-align: top;\n",
       "    }\n",
       "\n",
       "    .dataframe thead th {\n",
       "        text-align: right;\n",
       "    }\n",
       "</style>\n",
       "<table border=\"1\" class=\"dataframe\">\n",
       "  <thead>\n",
       "    <tr style=\"text-align: right;\">\n",
       "      <th></th>\n",
       "      <th>Open</th>\n",
       "      <th>High</th>\n",
       "      <th>Low</th>\n",
       "      <th>Close</th>\n",
       "      <th>Adj Close</th>\n",
       "      <th>Volume</th>\n",
       "    </tr>\n",
       "    <tr>\n",
       "      <th>Date</th>\n",
       "      <th></th>\n",
       "      <th></th>\n",
       "      <th></th>\n",
       "      <th></th>\n",
       "      <th></th>\n",
       "      <th></th>\n",
       "    </tr>\n",
       "  </thead>\n",
       "  <tbody>\n",
       "    <tr>\n",
       "      <th>2000-01-03</th>\n",
       "      <td>148.25000</td>\n",
       "      <td>148.25000</td>\n",
       "      <td>143.875000</td>\n",
       "      <td>145.43750</td>\n",
       "      <td>97.506668</td>\n",
       "      <td>8164300</td>\n",
       "    </tr>\n",
       "    <tr>\n",
       "      <th>2000-01-04</th>\n",
       "      <td>143.53125</td>\n",
       "      <td>144.06250</td>\n",
       "      <td>139.640625</td>\n",
       "      <td>139.75000</td>\n",
       "      <td>93.693573</td>\n",
       "      <td>8089800</td>\n",
       "    </tr>\n",
       "    <tr>\n",
       "      <th>2000-01-05</th>\n",
       "      <td>139.93750</td>\n",
       "      <td>141.53125</td>\n",
       "      <td>137.250000</td>\n",
       "      <td>140.00000</td>\n",
       "      <td>93.861176</td>\n",
       "      <td>12177900</td>\n",
       "    </tr>\n",
       "    <tr>\n",
       "      <th>2000-01-06</th>\n",
       "      <td>139.62500</td>\n",
       "      <td>141.50000</td>\n",
       "      <td>137.750000</td>\n",
       "      <td>137.75000</td>\n",
       "      <td>92.352676</td>\n",
       "      <td>6227200</td>\n",
       "    </tr>\n",
       "    <tr>\n",
       "      <th>2000-01-07</th>\n",
       "      <td>140.31250</td>\n",
       "      <td>145.75000</td>\n",
       "      <td>140.062500</td>\n",
       "      <td>145.75000</td>\n",
       "      <td>97.716209</td>\n",
       "      <td>8066500</td>\n",
       "    </tr>\n",
       "    <tr>\n",
       "      <th>2000-01-10</th>\n",
       "      <td>146.25000</td>\n",
       "      <td>146.90625</td>\n",
       "      <td>145.031250</td>\n",
       "      <td>146.25000</td>\n",
       "      <td>98.051422</td>\n",
       "      <td>5741700</td>\n",
       "    </tr>\n",
       "    <tr>\n",
       "      <th>2000-01-11</th>\n",
       "      <td>145.81250</td>\n",
       "      <td>146.09375</td>\n",
       "      <td>143.500000</td>\n",
       "      <td>144.50000</td>\n",
       "      <td>96.878143</td>\n",
       "      <td>7503700</td>\n",
       "    </tr>\n",
       "    <tr>\n",
       "      <th>2000-01-12</th>\n",
       "      <td>144.59375</td>\n",
       "      <td>144.59375</td>\n",
       "      <td>142.875000</td>\n",
       "      <td>143.06250</td>\n",
       "      <td>95.914406</td>\n",
       "      <td>6907700</td>\n",
       "    </tr>\n",
       "    <tr>\n",
       "      <th>2000-01-13</th>\n",
       "      <td>144.46875</td>\n",
       "      <td>145.75000</td>\n",
       "      <td>143.281250</td>\n",
       "      <td>145.00000</td>\n",
       "      <td>97.213379</td>\n",
       "      <td>5158300</td>\n",
       "    </tr>\n",
       "    <tr>\n",
       "      <th>2000-01-14</th>\n",
       "      <td>146.53125</td>\n",
       "      <td>147.46875</td>\n",
       "      <td>145.968750</td>\n",
       "      <td>146.96875</td>\n",
       "      <td>98.533318</td>\n",
       "      <td>7437300</td>\n",
       "    </tr>\n",
       "  </tbody>\n",
       "</table>\n",
       "</div>"
      ],
      "text/plain": [
       "                 Open       High         Low      Close  Adj Close    Volume\n",
       "Date                                                                        \n",
       "2000-01-03  148.25000  148.25000  143.875000  145.43750  97.506668   8164300\n",
       "2000-01-04  143.53125  144.06250  139.640625  139.75000  93.693573   8089800\n",
       "2000-01-05  139.93750  141.53125  137.250000  140.00000  93.861176  12177900\n",
       "2000-01-06  139.62500  141.50000  137.750000  137.75000  92.352676   6227200\n",
       "2000-01-07  140.31250  145.75000  140.062500  145.75000  97.716209   8066500\n",
       "2000-01-10  146.25000  146.90625  145.031250  146.25000  98.051422   5741700\n",
       "2000-01-11  145.81250  146.09375  143.500000  144.50000  96.878143   7503700\n",
       "2000-01-12  144.59375  144.59375  142.875000  143.06250  95.914406   6907700\n",
       "2000-01-13  144.46875  145.75000  143.281250  145.00000  97.213379   5158300\n",
       "2000-01-14  146.53125  147.46875  145.968750  146.96875  98.533318   7437300"
      ]
     },
     "execution_count": 41,
     "metadata": {},
     "output_type": "execute_result"
    }
   ],
   "source": [
    "yf.pdr_override()\n",
    "\n",
    "start_date = \"2000-01-01\"\n",
    "end_date = \"2020-12-31\"\n",
    "\n",
    "df = pdr.get_data_yahoo(\"SPY\", start=start_date, end=end_date)\n",
    "df.head(10)"
   ]
  },
  {
   "cell_type": "markdown",
   "id": "26d22b06-ea54-4ac8-bfa4-24a0aa0527d0",
   "metadata": {},
   "source": [
    "### 1) Preparación de datos"
   ]
  },
  {
   "cell_type": "markdown",
   "id": "4cd8cfba-57f9-4a8d-8714-da312426c532",
   "metadata": {},
   "source": [
    "Como lo que se quiere es predecir el precio `Adj Close` en base a valores del pasado, se trabaja sobre los precios del activo y no sobre el espacio de retornos (pct_change)."
   ]
  },
  {
   "cell_type": "code",
   "execution_count": 49,
   "id": "8cfde77b-c5dc-4950-890d-f28d9b3f9664",
   "metadata": {},
   "outputs": [
    {
     "data": {
      "text/html": [
       "<div>\n",
       "<style scoped>\n",
       "    .dataframe tbody tr th:only-of-type {\n",
       "        vertical-align: middle;\n",
       "    }\n",
       "\n",
       "    .dataframe tbody tr th {\n",
       "        vertical-align: top;\n",
       "    }\n",
       "\n",
       "    .dataframe thead th {\n",
       "        text-align: right;\n",
       "    }\n",
       "</style>\n",
       "<table border=\"1\" class=\"dataframe\">\n",
       "  <thead>\n",
       "    <tr style=\"text-align: right;\">\n",
       "      <th></th>\n",
       "      <th>Adj Close</th>\n",
       "    </tr>\n",
       "    <tr>\n",
       "      <th>Date</th>\n",
       "      <th></th>\n",
       "    </tr>\n",
       "  </thead>\n",
       "  <tbody>\n",
       "    <tr>\n",
       "      <th>2000-01-03</th>\n",
       "      <td>97.506668</td>\n",
       "    </tr>\n",
       "    <tr>\n",
       "      <th>2000-01-04</th>\n",
       "      <td>93.693573</td>\n",
       "    </tr>\n",
       "    <tr>\n",
       "      <th>2000-01-05</th>\n",
       "      <td>93.861176</td>\n",
       "    </tr>\n",
       "    <tr>\n",
       "      <th>2000-01-06</th>\n",
       "      <td>92.352676</td>\n",
       "    </tr>\n",
       "    <tr>\n",
       "      <th>2000-01-07</th>\n",
       "      <td>97.716209</td>\n",
       "    </tr>\n",
       "    <tr>\n",
       "      <th>2000-01-10</th>\n",
       "      <td>98.051422</td>\n",
       "    </tr>\n",
       "    <tr>\n",
       "      <th>2000-01-11</th>\n",
       "      <td>96.878143</td>\n",
       "    </tr>\n",
       "    <tr>\n",
       "      <th>2000-01-12</th>\n",
       "      <td>95.914406</td>\n",
       "    </tr>\n",
       "    <tr>\n",
       "      <th>2000-01-13</th>\n",
       "      <td>97.213379</td>\n",
       "    </tr>\n",
       "    <tr>\n",
       "      <th>2000-01-14</th>\n",
       "      <td>98.533318</td>\n",
       "    </tr>\n",
       "  </tbody>\n",
       "</table>\n",
       "</div>"
      ],
      "text/plain": [
       "            Adj Close\n",
       "Date                 \n",
       "2000-01-03  97.506668\n",
       "2000-01-04  93.693573\n",
       "2000-01-05  93.861176\n",
       "2000-01-06  92.352676\n",
       "2000-01-07  97.716209\n",
       "2000-01-10  98.051422\n",
       "2000-01-11  96.878143\n",
       "2000-01-12  95.914406\n",
       "2000-01-13  97.213379\n",
       "2000-01-14  98.533318"
      ]
     },
     "execution_count": 49,
     "metadata": {},
     "output_type": "execute_result"
    }
   ],
   "source": [
    "prices = df[['Adj Close']]\n",
    "# prices = prices.asfreq(freq ='D', fill_value = .0) # Ver si esto es necesario o no. Rellena valores faltantes (fines de semana) con 0.\n",
    "prices.head(10)"
   ]
  },
  {
   "cell_type": "markdown",
   "id": "07b385db-e973-4bb6-8323-7cc1ca426795",
   "metadata": {},
   "source": [
    "### 2) Chequeo rápido de autocorrelación"
   ]
  },
  {
   "cell_type": "markdown",
   "id": "15cbfbb2-ed1c-48c6-a129-94e26d524937",
   "metadata": {},
   "source": [
    "Hay una verificación visual rápida que podemos hacer para ver si hay una autocorrelación en nuestro conjunto de datos de series de tiempo.\n",
    "\n",
    "Podemos graficar la observación en el paso de tiempo anterior (t-1) con la observación en el siguiente paso de tiempo (t + 1) como un diagrama de dispersión.\n",
    "\n",
    "Esto se puede hacer manualmente creando primero una versión de retraso (shift) del conjunto de datos de series de tiempo y usando una función de diagrama de dispersión incorporada en la biblioteca de Pandas.\n",
    "\n",
    "Pero hay una manera más fácil. Pandas proporciona una gráfica incorporada para hacer exactamente esto, llamada función lag_plot ()."
   ]
  },
  {
   "cell_type": "code",
   "execution_count": 57,
   "id": "2376ae5d-b8c1-42aa-8b2c-66988b5ac309",
   "metadata": {},
   "outputs": [
    {
     "data": {
      "image/png": "[encoded data removed]",
      "text/plain": [
       "<Figure size 576x576 with 1 Axes>"
      ]
     },
     "metadata": {},
     "output_type": "display_data"
    }
   ],
   "source": [
    "from pandas.plotting import lag_plot\n",
    "\n",
    "plt.figure(figsize=(8, 8))\n",
    "lag_plot(prices['Adj Close'])\n",
    "plt.show()"
   ]
  },
  {
   "cell_type": "markdown",
   "id": "93ca41f4-0820-4015-b5ef-9d7c07f72168",
   "metadata": {},
   "source": [
    "A simple vista puede observarse una correlación entre los datos. Numéricamente, esto puede cuantificarse mediante el coeficiente Pearson, que se determina a contninuación."
   ]
  },
  {
   "cell_type": "code",
   "execution_count": 52,
   "id": "27af64f6-cbb4-4499-a333-059e76ab7d96",
   "metadata": {},
   "outputs": [
    {
     "name": "stdout",
     "output_type": "stream",
     "text": [
      "          t-1       t+1\n",
      "t-1  1.000000  0.999691\n",
      "t+1  0.999691  1.000000\n"
     ]
    }
   ],
   "source": [
    "corr_data = pd.concat([prices.shift(1), prices], axis=1)\n",
    "corr_data.columns = ['t-1', 't+1']\n",
    "result = corr_data.corr()\n",
    "print(result)"
   ]
  },
  {
   "cell_type": "markdown",
   "id": "cf74daf3-5fd7-49fc-9a0d-75cd1021cb9c",
   "metadata": {},
   "source": [
    "Se observa una alta correlación positiva (0.999)"
   ]
  },
  {
   "cell_type": "markdown",
   "id": "c42917c9-0104-4c6f-8bba-af28e018cf0b",
   "metadata": {},
   "source": [
    "### 3) Modelo"
   ]
  },
  {
   "cell_type": "code",
   "execution_count": 59,
   "id": "0912f3b2-c310-4141-8c73-f8e0da43d343",
   "metadata": {},
   "outputs": [
    {
     "name": "stdout",
     "output_type": "stream",
     "text": [
      "                            AutoReg Model Results                             \n",
      "==============================================================================\n",
      "Dep. Variable:              Adj Close   No. Observations:                 5283\n",
      "Model:                    AutoReg(30)   Log Likelihood              -10417.706\n",
      "Method:               Conditional MLE   S.D. of innovations              1.758\n",
      "Date:                Thu, 12 Aug 2021   AIC                              1.141\n",
      "Time:                        22:17:22   BIC                              1.181\n",
      "Sample:                            30   HQIC                             1.155\n",
      "                                 5283                                         \n",
      "=================================================================================\n",
      "                    coef    std err          z      P>|z|      [0.025      0.975]\n",
      "---------------------------------------------------------------------------------\n",
      "intercept        -0.0469      0.053     -0.894      0.372      -0.150       0.056\n",
      "Adj Close.L1      0.8963      0.014     64.967      0.000       0.869       0.923\n",
      "Adj Close.L2      0.1601      0.019      8.640      0.000       0.124       0.196\n",
      "Adj Close.L3     -0.0222      0.019     -1.193      0.233      -0.059       0.014\n",
      "Adj Close.L4     -0.0931      0.019     -5.006      0.000      -0.130      -0.057\n",
      "Adj Close.L5      0.0581      0.019      3.119      0.002       0.022       0.095\n",
      "Adj Close.L6     -0.0677      0.019     -3.630      0.000      -0.104      -0.031\n",
      "Adj Close.L7      0.1763      0.019      9.443      0.000       0.140       0.213\n",
      "Adj Close.L8     -0.1709      0.019     -9.077      0.000      -0.208      -0.134\n",
      "Adj Close.L9      0.1576      0.019      8.314      0.000       0.120       0.195\n",
      "Adj Close.L10    -0.1108      0.019     -5.810      0.000      -0.148      -0.073\n",
      "Adj Close.L11     0.0263      0.019      1.374      0.169      -0.011       0.064\n",
      "Adj Close.L12     0.0117      0.019      0.612      0.541      -0.026       0.049\n",
      "Adj Close.L13    -0.0481      0.019     -2.517      0.012      -0.086      -0.011\n",
      "Adj Close.L14     0.0161      0.019      0.842      0.400      -0.021       0.054\n",
      "Adj Close.L15    -0.0261      0.019     -1.368      0.171      -0.064       0.011\n",
      "Adj Close.L16     0.0689      0.019      3.604      0.000       0.031       0.106\n",
      "Adj Close.L17    -0.0052      0.019     -0.270      0.787      -0.043       0.032\n",
      "Adj Close.L18    -0.0591      0.019     -3.089      0.002      -0.097      -0.022\n",
      "Adj Close.L19     0.0150      0.019      0.784      0.433      -0.023       0.052\n",
      "Adj Close.L20    -0.0093      0.019     -0.487      0.626      -0.047       0.028\n",
      "Adj Close.L21     0.0325      0.019      1.705      0.088      -0.005       0.070\n",
      "Adj Close.L22    -0.0462      0.019     -2.437      0.015      -0.083      -0.009\n",
      "Adj Close.L23     0.0047      0.019      0.250      0.803      -0.032       0.042\n",
      "Adj Close.L24     0.0265      0.019      1.422      0.155      -0.010       0.063\n",
      "Adj Close.L25    -0.0037      0.019     -0.198      0.843      -0.040       0.033\n",
      "Adj Close.L26    -0.0368      0.019     -1.976      0.048      -0.073      -0.000\n",
      "Adj Close.L27     0.1042      0.019      5.602      0.000       0.068       0.141\n",
      "Adj Close.L28    -0.0566      0.019     -3.034      0.002      -0.093      -0.020\n",
      "Adj Close.L29     0.0192      0.019      1.034      0.301      -0.017       0.056\n",
      "Adj Close.L30    -0.0168      0.014     -1.216      0.224      -0.044       0.010\n",
      "                                    Roots                                     \n",
      "==============================================================================\n",
      "                   Real          Imaginary           Modulus         Frequency\n",
      "------------------------------------------------------------------------------\n",
      "AR.1            -1.0819           -0.1454j            1.0916           -0.4787\n",
      "AR.2            -1.0819           +0.1454j            1.0916            0.4787\n",
      "AR.3            -0.9878           -0.3956j            1.0641           -0.4394\n",
      "AR.4            -0.9878           +0.3956j            1.0641            0.4394\n",
      "AR.5            -0.9368           -0.5547j            1.0887           -0.4149\n",
      "AR.6            -0.9368           +0.5547j            1.0887            0.4149\n",
      "AR.7            -0.7510           -0.7918j            1.0913           -0.3708\n",
      "AR.8            -0.7510           +0.7918j            1.0913            0.3708\n",
      "AR.9            -0.5402           -0.9468j            1.0901           -0.3325\n",
      "AR.10           -0.5402           +0.9468j            1.0901            0.3325\n",
      "AR.11           -0.3080           -1.0476j            1.0919           -0.2955\n",
      "AR.12           -0.3080           +1.0476j            1.0919            0.2955\n",
      "AR.13           -0.0045           -1.1033j            1.1033           -0.2507\n",
      "AR.14           -0.0045           +1.1033j            1.1033            0.2507\n",
      "AR.15            0.2437           -1.1405j            1.1662           -0.2165\n",
      "AR.16            0.2437           +1.1405j            1.1662            0.2165\n",
      "AR.17            0.4696           -1.0067j            1.1108           -0.1805\n",
      "AR.18            0.4696           +1.0067j            1.1108            0.1805\n",
      "AR.19            0.7102           -0.8696j            1.1228           -0.1410\n",
      "AR.20            0.7102           +0.8696j            1.1228            0.1410\n",
      "AR.21            0.8471           -0.6828j            1.0880           -0.1080\n",
      "AR.22            0.8471           +0.6828j            1.0880            0.1080\n",
      "AR.23            0.9945           -0.4578j            1.0948           -0.0687\n",
      "AR.24            0.9945           +0.4578j            1.0948            0.0687\n",
      "AR.25            0.9993           -0.0000j            0.9993           -0.0000\n",
      "AR.26            1.0851           -0.1693j            1.0983           -0.0246\n",
      "AR.27            1.0851           +0.1693j            1.0983            0.0246\n",
      "AR.28            1.3082           -0.0000j            1.3082           -0.0000\n",
      "AR.29           -0.3235           -1.9290j            1.9559           -0.2764\n",
      "AR.30           -0.3235           +1.9290j            1.9559            0.2764\n",
      "------------------------------------------------------------------------------\n"
     ]
    },
    {
     "name": "stderr",
     "output_type": "stream",
     "text": [
      "C:\\Users\\exequ\\anaconda3\\envs\\diplodatos\\lib\\site-packages\\statsmodels\\tsa\\base\\tsa_model.py:583: ValueWarning: A date index has been provided, but it has no associated frequency information and so will be ignored when e.g. forecasting.\n",
      "  ' ignored when e.g. forecasting.', ValueWarning)\n",
      "C:\\Users\\exequ\\anaconda3\\envs\\diplodatos\\lib\\site-packages\\statsmodels\\tsa\\ar_model.py:252: FutureWarning: The parameter names will change after 0.12 is released. Set old_names to False to use the new names now. Set old_names to True to use the old names. \n",
      "  FutureWarning,\n"
     ]
    }
   ],
   "source": [
    "# https://www.statsmodels.org/stable/generated/statsmodels.tsa.ar_model.AutoReg.html\n",
    "\n",
    "from statsmodels.tsa.ar_model import AutoReg\n",
    "\n",
    "model = AutoReg(prices['Adj Close'], lags=30)\n",
    "entrenamiento = model.fit()\n",
    "print(entrenamiento.summary())"
   ]
  },
  {
   "cell_type": "code",
   "execution_count": 55,
   "id": "a73147f5-597c-4b05-818c-1b25f6fb6180",
   "metadata": {},
   "outputs": [
    {
     "name": "stderr",
     "output_type": "stream",
     "text": [
      "No handles with labels found to put in legend.\n"
     ]
    },
    {
     "data": {
      "text/plain": [
       "<Figure size 432x432 with 0 Axes>"
      ]
     },
     "execution_count": 55,
     "metadata": {},
     "output_type": "execute_result"
    },
    {
     "data": {
      "image/png": "[encoded data removed]",
      "text/plain": [
       "<Figure size 1152x432 with 1 Axes>"
      ]
     },
     "metadata": {},
     "output_type": "display_data"
    },
    {
     "data": {
      "text/plain": [
       "<Figure size 432x432 with 0 Axes>"
      ]
     },
     "metadata": {},
     "output_type": "display_data"
    }
   ],
   "source": [
    "# Seteo Graficación\n",
    "\n",
    "sns.set_style('darkgrid')\n",
    "pd.plotting.register_matplotlib_converters()\n",
    "# Default figure size\n",
    "sns.mpl.rc('figure',figsize=(16, 6))\n",
    "\n",
    "fig = entrenamiento.plot_predict(720, 840)"
   ]
  },
  {
   "cell_type": "code",
   "execution_count": 38,
   "id": "215bf8d1-85f4-4172-84ea-bf0b60db8b0e",
   "metadata": {},
   "outputs": [
    {
     "data": {
      "image/png": "[encoded data removed]",
      "text/plain": [
       "<Figure size 1152x648 with 4 Axes>"
      ]
     },
     "metadata": {},
     "output_type": "display_data"
    }
   ],
   "source": [
    "# Diagnóstico\n",
    "\n",
    "fig = plt.figure(figsize=(16,9))\n",
    "fig = entrenamiento.plot_diagnostics(fig=fig, lags=30)"
   ]
  },
  {
   "cell_type": "markdown",
   "id": "beginning-repository",
   "metadata": {},
   "source": [
    "### Árboles de Decisión para predecir suba o baja.\n",
    "\n",
    "Venimos trabajando los precios con valores continuos, pero otra forma de verlos podría ser convirtiendolos en, por ejemplo, -1 y 1 para saber si el precio está en suba o en baja. De esta forma obtenemos un problema de clasificación que nos permite mirar los datos desde otra perspectiva.\n",
    "\n",
    "- Etiqueten los datos con 1 si [pct_change](https://pandas.pydata.org/docs/reference/api/pandas.DataFrame.pct_change.html) es mayor a cero y 0, -1 si no.\n",
    "- Entrenen un árbol de decisión que prediga si el valor de un activo va a subir o bajar.\n",
    "- Reporten las siguientes métricas sobre el modelo resultante.\n",
    "\n",
    "    - Accuracy\n",
    "    - Precision\n",
    "    - Recall\n",
    "    - F1\n",
    "    - matriz de confusión"
   ]
  },
  {
   "cell_type": "code",
   "execution_count": null,
   "id": "complicated-planet",
   "metadata": {},
   "outputs": [],
   "source": [
    "# Desafío: cómo etiquetar el dataset. Hecho en base a pct_change\n",
    "# usar shift para asignar etiqueta. pct_change de hoy asignar a día siguiente .shift(-1)\n",
    "# agregar columnas con precios_adj shifteados (hoy, ayer, anteayer) o usar varias columnas no solo adj_close. \n",
    "# tener en cuenta el balance del dataset (que haya similar cantidad de 1 y -1)"
   ]
  },
  {
   "cell_type": "markdown",
   "id": "boolean-reward",
   "metadata": {},
   "source": [
    "El etiquetado de datos no suele ser trivial dado a que depende de la naturaleza de los datos. Posiblemente, el precio de un activo suba un poco pero luego continue su declive ¿Cuánto tiene que subir/bajar un precio para ser considerado \"suba\"/\"baja\"?. ¿Tiene sentido tomar \"periodos de suba/baja\" más grandes para predecir si el comportamiento del activo en el futuro?. ¿Se podría utilizar un enfoque más estadístico para elegir el etiquetado?.\n",
    "\n",
    "Aplicar GridSearch sobre los parámetros y luego para la mejor configuración encontrada, evaluar sobre el conjunto de entrenamiento y sobre el conjunto de evaluación, reportando:\n",
    "\n",
    "- Accuracy\n",
    "- Precision\n",
    "- Recall\n",
    "- F1\n",
    "- matriz de confusión"
   ]
  },
  {
   "cell_type": "code",
   "execution_count": null,
   "id": "forbidden-shoot",
   "metadata": {},
   "outputs": [],
   "source": []
  }
 ],
 "metadata": {
  "kernelspec": {
   "display_name": "Python 3",
   "language": "python",
   "name": "python3"
  },
  "language_info": {
   "codemirror_mode": {
    "name": "ipython",
    "version": 3
   },
   "file_extension": ".py",
   "mimetype": "text/x-python",
   "name": "python",
   "nbconvert_exporter": "python",
   "pygments_lexer": "ipython3",
   "version": "3.6.13"
  }
 },
 "nbformat": 4,
 "nbformat_minor": 5
}
