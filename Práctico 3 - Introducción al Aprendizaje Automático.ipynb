{
 "cells": [
  {
   "cell_type": "markdown",
   "id": "conventional-registrar",
   "metadata": {},
   "source": [
    "# Práctico 3 - Introducción al Aprendizaje Automático\n",
    "\n",
    "## Modelos de Precios de Mercado\n",
    "Queremos crear un modelo que prediga si el precio de una acción va a subir o bajar de acuerdo a información del pasado. Para ello implementaremos algunos modelos derivados de la teoria económica respecto de como valuar una activo con flujo de fondos inciertos.\n",
    "\n",
    "\n",
    "### Capital Asset Pricing Model (CAPM)\n",
    "\n",
    "El modelo de CAPM propuesto por William Sharpe a partir del desarrollo de Markowitz sobre carteras eficientes, busca predecir el retorno de un activo en función del comportamiento global del mercado, y de la relación del activo puntual con el mercado. \n",
    "\n",
    "Según este modelo, que se puede expresar de la siguiente manera: \n",
    "\n",
    "$$\n",
    "E(r_i) = r_f + \\beta  [ E(r_m) - r_f ] \n",
    "$$\n",
    "\n",
    "El retorno esperado del activo i, es igual al retorno libre de riesgo (o tasa libre de riesgo), más el exceso de retorno esperado de mercado (es decir lo que se espera que rinda el mercado por sobre la tasa libre de riesgo) escalado por un coeficiente beta. Este coeficiente beta es el conciente entre la covarianza del activo con el mercado sobre la varianza del mercado, y se interpreta como un multiplicador de riesgo de mercado.\n",
    "\n",
    "Pueden ver una explicación completa en: https://economipedia.com/definiciones/modelo-valoracion-activos-financieros-capm.html\n",
    "\n",
    "Adicionalmente, se puede agregar un término independiente como ordenada al origen alfa, que represanta una ganancia extraordinaria no explicada por la relacion con de la acción con el mercado sino por factores extraordinarios o arbitrages en caso de estrategias. De allí el famoso \"buscar alfa\" siendo una directriz de todos los portafolios managers. \n",
    "\n",
    "$$\n",
    "E(r_i) = \\alpha + r_f + \\beta  [ E(r_m) - r_f ]\n",
    "$$\n",
    "\n",
    "Para realizar este ejercicio, deberán descargar el precio de una acción y del mercado asociado (por ejemplo GOOG y NASDAQ). En ambos casos tomar los retornos y tomar una tasa libre de riesgo. A continuación, deberán probar varias regresiones para comprobar el beta, y examinar si el agregado de una ordenada al origen aporta a los resultados. La idea es que seleccionen varias acciones para modelarlo con diferentes activos. \n",
    "\n",
    "Una vez que lo hayan hecho, adionalmente responder las siguientes preguntas:\n",
    "\n",
    "1. ¿Es fácil encontrar $\\alpha$ distinto de cero?\n",
    "\n",
    "2. ¿Qué interpretación le podemos dar a $\\beta$?\n",
    "\n",
    "3. ¿En qué momento nos gustaría buscar activos con $\\beta$ > 1 y $\\beta$ < 1? ¿Qué implica tener un $\\beta$ < 0?\n",
    "\n"
   ]
  },
  {
   "cell_type": "markdown",
   "id": "169b8e36-3cd3-4bed-9359-5d405f7357ed",
   "metadata": {},
   "source": [
    "### 0) Importación de librerías"
   ]
  },
  {
   "cell_type": "code",
   "execution_count": 123,
   "id": "chinese-thirty",
   "metadata": {},
   "outputs": [],
   "source": [
    "import pandas as pd\n",
    "from pandas_datareader import data as pdr\n",
    "import matplotlib.pyplot as plt\n",
    "import yfinance as yf # Agrego esto # pip install yfinance --upgrade --no-cache-dir\n",
    "import numpy as np # Agrego esto\n",
    "import seaborn as sns\n",
    "from datetime import timedelta"
   ]
  },
  {
   "cell_type": "markdown",
   "id": "639db5da-f3ba-4047-a40d-38be12ff0922",
   "metadata": {},
   "source": [
    "### 1) Download dataframe"
   ]
  },
  {
   "cell_type": "code",
   "execution_count": 124,
   "id": "c6fc2ee0-986b-42f8-a435-f2da31b5b431",
   "metadata": {},
   "outputs": [
    {
     "name": "stdout",
     "output_type": "stream",
     "text": [
      "[*********************100%***********************]  1 of 1 completed\n",
      "[*********************100%***********************]  1 of 1 completed\n"
     ]
    },
    {
     "data": {
      "text/html": [
       "<div>\n",
       "<style scoped>\n",
       "    .dataframe tbody tr th:only-of-type {\n",
       "        vertical-align: middle;\n",
       "    }\n",
       "\n",
       "    .dataframe tbody tr th {\n",
       "        vertical-align: top;\n",
       "    }\n",
       "\n",
       "    .dataframe thead th {\n",
       "        text-align: right;\n",
       "    }\n",
       "</style>\n",
       "<table border=\"1\" class=\"dataframe\">\n",
       "  <thead>\n",
       "    <tr style=\"text-align: right;\">\n",
       "      <th></th>\n",
       "      <th>Open</th>\n",
       "      <th>High</th>\n",
       "      <th>Low</th>\n",
       "      <th>Close</th>\n",
       "      <th>Adj Close</th>\n",
       "      <th>Volume</th>\n",
       "    </tr>\n",
       "    <tr>\n",
       "      <th>Date</th>\n",
       "      <th></th>\n",
       "      <th></th>\n",
       "      <th></th>\n",
       "      <th></th>\n",
       "      <th></th>\n",
       "      <th></th>\n",
       "    </tr>\n",
       "  </thead>\n",
       "  <tbody>\n",
       "    <tr>\n",
       "      <th>2002-07-01</th>\n",
       "      <td>15.0</td>\n",
       "      <td>15.0</td>\n",
       "      <td>15.0</td>\n",
       "      <td>15.00</td>\n",
       "      <td>12.815305</td>\n",
       "      <td>1300</td>\n",
       "    </tr>\n",
       "    <tr>\n",
       "      <th>2002-07-02</th>\n",
       "      <td>15.5</td>\n",
       "      <td>16.5</td>\n",
       "      <td>15.0</td>\n",
       "      <td>15.13</td>\n",
       "      <td>12.926373</td>\n",
       "      <td>7000</td>\n",
       "    </tr>\n",
       "    <tr>\n",
       "      <th>2002-07-03</th>\n",
       "      <td>14.0</td>\n",
       "      <td>16.0</td>\n",
       "      <td>14.0</td>\n",
       "      <td>15.00</td>\n",
       "      <td>12.815305</td>\n",
       "      <td>10200</td>\n",
       "    </tr>\n",
       "    <tr>\n",
       "      <th>2002-07-05</th>\n",
       "      <td>15.0</td>\n",
       "      <td>15.0</td>\n",
       "      <td>15.0</td>\n",
       "      <td>15.00</td>\n",
       "      <td>12.815305</td>\n",
       "      <td>500</td>\n",
       "    </tr>\n",
       "    <tr>\n",
       "      <th>2002-07-08</th>\n",
       "      <td>14.0</td>\n",
       "      <td>14.0</td>\n",
       "      <td>14.0</td>\n",
       "      <td>14.00</td>\n",
       "      <td>11.960951</td>\n",
       "      <td>300</td>\n",
       "    </tr>\n",
       "  </tbody>\n",
       "</table>\n",
       "</div>"
      ],
      "text/plain": [
       "            Open  High   Low  Close  Adj Close  Volume\n",
       "Date                                                  \n",
       "2002-07-01  15.0  15.0  15.0  15.00  12.815305    1300\n",
       "2002-07-02  15.5  16.5  15.0  15.13  12.926373    7000\n",
       "2002-07-03  14.0  16.0  14.0  15.00  12.815305   10200\n",
       "2002-07-05  15.0  15.0  15.0  15.00  12.815305     500\n",
       "2002-07-08  14.0  14.0  14.0  14.00  11.960951     300"
      ]
     },
     "execution_count": 124,
     "metadata": {},
     "output_type": "execute_result"
    }
   ],
   "source": [
    "yf.pdr_override()\n",
    "\n",
    "start_date = \"2000-01-01\"\n",
    "end_date = \"2020-12-31\"\n",
    "\n",
    "df_activo = pdr.get_data_yahoo(\"GOOG\", start=start_date, end=end_date)\n",
    "df_mercado = pdr.get_data_yahoo(\"NDAQ\", start=start_date, end=end_date)\n",
    "df_mercado.head()\n",
    "# df_1['Adj Close'].plot(figsize=(16,9))"
   ]
  },
  {
   "cell_type": "markdown",
   "id": "392c3bfc-bd87-43e4-baa9-d69642edfffc",
   "metadata": {},
   "source": [
    "### 2) Determinación de retornos totales"
   ]
  },
  {
   "cell_type": "code",
   "execution_count": 125,
   "id": "21bf1fa8-4194-439e-823a-925ecd8bcae9",
   "metadata": {},
   "outputs": [
    {
     "data": {
      "text/html": [
       "<div>\n",
       "<style scoped>\n",
       "    .dataframe tbody tr th:only-of-type {\n",
       "        vertical-align: middle;\n",
       "    }\n",
       "\n",
       "    .dataframe tbody tr th {\n",
       "        vertical-align: top;\n",
       "    }\n",
       "\n",
       "    .dataframe thead th {\n",
       "        text-align: right;\n",
       "    }\n",
       "</style>\n",
       "<table border=\"1\" class=\"dataframe\">\n",
       "  <thead>\n",
       "    <tr style=\"text-align: right;\">\n",
       "      <th></th>\n",
       "      <th>Open</th>\n",
       "      <th>High</th>\n",
       "      <th>Low</th>\n",
       "      <th>Close</th>\n",
       "      <th>Adj Close</th>\n",
       "      <th>Volume</th>\n",
       "      <th>Retornos</th>\n",
       "    </tr>\n",
       "    <tr>\n",
       "      <th>Date</th>\n",
       "      <th></th>\n",
       "      <th></th>\n",
       "      <th></th>\n",
       "      <th></th>\n",
       "      <th></th>\n",
       "      <th></th>\n",
       "      <th></th>\n",
       "    </tr>\n",
       "  </thead>\n",
       "  <tbody>\n",
       "    <tr>\n",
       "      <th>2002-07-01</th>\n",
       "      <td>15.0</td>\n",
       "      <td>15.0</td>\n",
       "      <td>15.0</td>\n",
       "      <td>15.00</td>\n",
       "      <td>12.815305</td>\n",
       "      <td>1300</td>\n",
       "      <td>NaN</td>\n",
       "    </tr>\n",
       "    <tr>\n",
       "      <th>2002-07-02</th>\n",
       "      <td>15.5</td>\n",
       "      <td>16.5</td>\n",
       "      <td>15.0</td>\n",
       "      <td>15.13</td>\n",
       "      <td>12.926373</td>\n",
       "      <td>7000</td>\n",
       "      <td>0.866681</td>\n",
       "    </tr>\n",
       "    <tr>\n",
       "      <th>2002-07-03</th>\n",
       "      <td>14.0</td>\n",
       "      <td>16.0</td>\n",
       "      <td>14.0</td>\n",
       "      <td>15.00</td>\n",
       "      <td>12.815305</td>\n",
       "      <td>10200</td>\n",
       "      <td>-0.859234</td>\n",
       "    </tr>\n",
       "    <tr>\n",
       "      <th>2002-07-05</th>\n",
       "      <td>15.0</td>\n",
       "      <td>15.0</td>\n",
       "      <td>15.0</td>\n",
       "      <td>15.00</td>\n",
       "      <td>12.815305</td>\n",
       "      <td>500</td>\n",
       "      <td>0.000000</td>\n",
       "    </tr>\n",
       "    <tr>\n",
       "      <th>2002-07-08</th>\n",
       "      <td>14.0</td>\n",
       "      <td>14.0</td>\n",
       "      <td>14.0</td>\n",
       "      <td>14.00</td>\n",
       "      <td>11.960951</td>\n",
       "      <td>300</td>\n",
       "      <td>-6.666669</td>\n",
       "    </tr>\n",
       "  </tbody>\n",
       "</table>\n",
       "</div>"
      ],
      "text/plain": [
       "            Open  High   Low  Close  Adj Close  Volume  Retornos\n",
       "Date                                                            \n",
       "2002-07-01  15.0  15.0  15.0  15.00  12.815305    1300       NaN\n",
       "2002-07-02  15.5  16.5  15.0  15.13  12.926373    7000  0.866681\n",
       "2002-07-03  14.0  16.0  14.0  15.00  12.815305   10200 -0.859234\n",
       "2002-07-05  15.0  15.0  15.0  15.00  12.815305     500  0.000000\n",
       "2002-07-08  14.0  14.0  14.0  14.00  11.960951     300 -6.666669"
      ]
     },
     "execution_count": 125,
     "metadata": {},
     "output_type": "execute_result"
    }
   ],
   "source": [
    "df_activo['Retornos'] = df_activo['Adj Close'].pct_change()*100\n",
    "df_mercado['Retornos'] = df_mercado['Adj Close'].pct_change()*100\n",
    "df_mercado.head()"
   ]
  },
  {
   "cell_type": "code",
   "execution_count": 126,
   "id": "93a9627b-3fde-4662-8e2b-32ab1fe5df85",
   "metadata": {},
   "outputs": [
    {
     "data": {
      "text/html": [
       "<div>\n",
       "<style scoped>\n",
       "    .dataframe tbody tr th:only-of-type {\n",
       "        vertical-align: middle;\n",
       "    }\n",
       "\n",
       "    .dataframe tbody tr th {\n",
       "        vertical-align: top;\n",
       "    }\n",
       "\n",
       "    .dataframe thead th {\n",
       "        text-align: right;\n",
       "    }\n",
       "</style>\n",
       "<table border=\"1\" class=\"dataframe\">\n",
       "  <thead>\n",
       "    <tr style=\"text-align: right;\">\n",
       "      <th></th>\n",
       "      <th>retornos_activo</th>\n",
       "      <th>retornos_mercado</th>\n",
       "    </tr>\n",
       "    <tr>\n",
       "      <th>Date</th>\n",
       "      <th></th>\n",
       "      <th></th>\n",
       "    </tr>\n",
       "  </thead>\n",
       "  <tbody>\n",
       "    <tr>\n",
       "      <th>2004-08-20</th>\n",
       "      <td>7.942987</td>\n",
       "      <td>2.500062</td>\n",
       "    </tr>\n",
       "    <tr>\n",
       "      <th>2004-08-23</th>\n",
       "      <td>1.006371</td>\n",
       "      <td>-0.813049</td>\n",
       "    </tr>\n",
       "    <tr>\n",
       "      <th>2004-08-24</th>\n",
       "      <td>-4.140761</td>\n",
       "      <td>0.000000</td>\n",
       "    </tr>\n",
       "    <tr>\n",
       "      <th>2004-08-25</th>\n",
       "      <td>1.077523</td>\n",
       "      <td>0.000000</td>\n",
       "    </tr>\n",
       "    <tr>\n",
       "      <th>2004-08-26</th>\n",
       "      <td>1.801882</td>\n",
       "      <td>-0.819659</td>\n",
       "    </tr>\n",
       "  </tbody>\n",
       "</table>\n",
       "</div>"
      ],
      "text/plain": [
       "            retornos_activo  retornos_mercado\n",
       "Date                                         \n",
       "2004-08-20         7.942987          2.500062\n",
       "2004-08-23         1.006371         -0.813049\n",
       "2004-08-24        -4.140761          0.000000\n",
       "2004-08-25         1.077523          0.000000\n",
       "2004-08-26         1.801882         -0.819659"
      ]
     },
     "execution_count": 126,
     "metadata": {},
     "output_type": "execute_result"
    }
   ],
   "source": [
    "# Graficación\n",
    "retornos_concat = pd.concat([df_activo['Retornos'], df_mercado['Retornos']], axis=1, keys=['retornos_activo', 'retornos_mercado'])\n",
    "retornos_concat.dropna(inplace=True) # descarto fechas en que tengo NaN en algún retorno\n",
    "retornos_concat.head()\n",
    "\n",
    "# ver de hacer dropna antes de hacer pct_change"
   ]
  },
  {
   "cell_type": "markdown",
   "id": "cb605eb1-e61d-43df-aa1a-603c5c9cd801",
   "metadata": {},
   "source": [
    "El dataset `retorno_concat` sería el dataset de `train + validation + test`"
   ]
  },
  {
   "cell_type": "code",
   "execution_count": 127,
   "id": "4a3fda5e-92a8-4b3b-86a9-71730a73f9e0",
   "metadata": {},
   "outputs": [
    {
     "data": {
      "image/png": "[encoded data removed]",
      "text/plain": [
       "<Figure size 432x288 with 1 Axes>"
      ]
     },
     "metadata": {
      "needs_background": "light"
     },
     "output_type": "display_data"
    }
   ],
   "source": [
    "ax = sns.scatterplot(data=retornos_concat, x='retornos_activo', y='retornos_mercado')"
   ]
  },
  {
   "cell_type": "markdown",
   "id": "d3765987-6aba-42a4-84a0-51bef07ae30f",
   "metadata": {},
   "source": [
    "### 3.1 ) Determinación de beta: Método mínimos cuadrados [Fórmula cerrada Modelo Lineal]"
   ]
  },
  {
   "cell_type": "markdown",
   "id": "df6845ab-d9e4-414f-b17a-5a08ea4166d1",
   "metadata": {},
   "source": [
    "### Regresión lineal"
   ]
  },
  {
   "cell_type": "code",
   "execution_count": 128,
   "id": "26a8ff78-6b4b-4919-9ba1-e1b9f01c2544",
   "metadata": {},
   "outputs": [
    {
     "name": "stdout",
     "output_type": "stream",
     "text": [
      "beta = 0.32626681787945144\n",
      "correlation = 0.4152904414742563\n"
     ]
    }
   ],
   "source": [
    "# VER HOJA ESCRITA A MANO\n",
    "# Adopto una tasa libre de riesgo (1%) PREGUNTA: Cómo se elige este valor?\n",
    "# En EEUU se usa la tasa de los bonos que es más cercana a la taasa riskfree. En principio r_f puede ser = 0\n",
    "r_f = 0.01\n",
    "\n",
    "train_test = retornos_concat\n",
    "x_i = np.array(train_test['retornos_mercado'].values - r_f)\n",
    "y_i = np.array(train_test['retornos_activo'].values - r_f)\n",
    "\n",
    "beta = sum(y_i * x_i)/ sum(x_i**2)\n",
    "y_i_pred = beta*x_i\n",
    "\n",
    "correlation = np.corrcoef(y_i, y_i_pred)[0,1]\n",
    "\n",
    "print('beta =', beta)\n",
    "print('correlation =', correlation)"
   ]
  },
  {
   "cell_type": "markdown",
   "id": "0d212849-f0ee-4c91-83b9-01c2e8fe7cc4",
   "metadata": {},
   "source": [
    "### Graficación"
   ]
  },
  {
   "cell_type": "code",
   "execution_count": 129,
   "id": "22a81c41-e3d9-4306-91cb-e38a59786189",
   "metadata": {},
   "outputs": [
    {
     "data": {
      "text/plain": [
       "<matplotlib.legend.Legend at 0x2010fe67630>"
      ]
     },
     "execution_count": 129,
     "metadata": {},
     "output_type": "execute_result"
    },
    {
     "data": {
      "image/png": "[encoded data removed]",
      "text/plain": [
       "<Figure size 432x432 with 1 Axes>"
      ]
     },
     "metadata": {
      "needs_background": "light"
     },
     "output_type": "display_data"
    }
   ],
   "source": [
    "plt.figure(figsize=(6, 6))\n",
    "plt.scatter(data=retornos_concat, x='retornos_activo', y='retornos_mercado', color=\"blue\", label='train')\n",
    "plt.plot(x_i, y_i_pred, color='red', label='model')\n",
    "plt.legend()"
   ]
  },
  {
   "cell_type": "markdown",
   "id": "edf5a585-0ff3-4a94-8658-721b8da008b1",
   "metadata": {},
   "source": [
    "### 3.2 ) Determinación de beta: Método mínimos cuadrados [Entrenamiento]"
   ]
  },
  {
   "cell_type": "markdown",
   "id": "074fa5fa-0d05-4dbe-a157-aa276dbbfe06",
   "metadata": {},
   "source": [
    "### Separación de datasets: train, validation, test"
   ]
  },
  {
   "cell_type": "code",
   "execution_count": 130,
   "id": "b3217aa5-b7b2-4b6d-9e1d-8e70512e5a4b",
   "metadata": {},
   "outputs": [
    {
     "data": {
      "text/html": [
       "<div>\n",
       "<style scoped>\n",
       "    .dataframe tbody tr th:only-of-type {\n",
       "        vertical-align: middle;\n",
       "    }\n",
       "\n",
       "    .dataframe tbody tr th {\n",
       "        vertical-align: top;\n",
       "    }\n",
       "\n",
       "    .dataframe thead th {\n",
       "        text-align: right;\n",
       "    }\n",
       "</style>\n",
       "<table border=\"1\" class=\"dataframe\">\n",
       "  <thead>\n",
       "    <tr style=\"text-align: right;\">\n",
       "      <th></th>\n",
       "      <th>Date</th>\n",
       "      <th>retornos_activo</th>\n",
       "      <th>retornos_mercado</th>\n",
       "    </tr>\n",
       "  </thead>\n",
       "  <tbody>\n",
       "    <tr>\n",
       "      <th>0</th>\n",
       "      <td>2004-08-20</td>\n",
       "      <td>7.942987</td>\n",
       "      <td>2.500062</td>\n",
       "    </tr>\n",
       "    <tr>\n",
       "      <th>1</th>\n",
       "      <td>2004-08-23</td>\n",
       "      <td>1.006371</td>\n",
       "      <td>-0.813049</td>\n",
       "    </tr>\n",
       "    <tr>\n",
       "      <th>2</th>\n",
       "      <td>2004-08-24</td>\n",
       "      <td>-4.140761</td>\n",
       "      <td>0.000000</td>\n",
       "    </tr>\n",
       "    <tr>\n",
       "      <th>3</th>\n",
       "      <td>2004-08-25</td>\n",
       "      <td>1.077523</td>\n",
       "      <td>0.000000</td>\n",
       "    </tr>\n",
       "    <tr>\n",
       "      <th>4</th>\n",
       "      <td>2004-08-26</td>\n",
       "      <td>1.801882</td>\n",
       "      <td>-0.819659</td>\n",
       "    </tr>\n",
       "  </tbody>\n",
       "</table>\n",
       "</div>"
      ],
      "text/plain": [
       "        Date  retornos_activo  retornos_mercado\n",
       "0 2004-08-20         7.942987          2.500062\n",
       "1 2004-08-23         1.006371         -0.813049\n",
       "2 2004-08-24        -4.140761          0.000000\n",
       "3 2004-08-25         1.077523          0.000000\n",
       "4 2004-08-26         1.801882         -0.819659"
      ]
     },
     "execution_count": 130,
     "metadata": {},
     "output_type": "execute_result"
    }
   ],
   "source": [
    "data_train = train_test\n",
    "data_train.reset_index(level='Date', inplace=True)\n",
    "data_train.set_index('Date')\n",
    "\n",
    "# data_train['Date'] = pd.to_datetime(data_train['Date'])\n",
    "data_train.head()\n",
    "\n",
    "# Puedo usar sólo train. A lo sumo usar train y test. Se suele hacer cross validation"
   ]
  },
  {
   "cell_type": "code",
   "execution_count": 131,
   "id": "c7d1b21b-dc5c-41ec-8524-b5bf9c982408",
   "metadata": {},
   "outputs": [
    {
     "data": {
      "text/plain": [
       "(Timestamp('2004-08-20 00:00:00'), Timestamp('2020-12-30 00:00:00'))"
      ]
     },
     "execution_count": 131,
     "metadata": {},
     "output_type": "execute_result"
    }
   ],
   "source": [
    "data_train.Date.min(), data_train.Date.max()"
   ]
  },
  {
   "cell_type": "code",
   "execution_count": 132,
   "id": "b9733138-1e26-449e-bd18-27f196fa80d6",
   "metadata": {},
   "outputs": [
    {
     "name": "stdout",
     "output_type": "stream",
     "text": [
      "2020-11-16 2020-10-03\n"
     ]
    }
   ],
   "source": [
    "# Seperación temporal (últimos ~30 días para test y penúltimos ~30 días para validación)\n",
    "split_test_date = (pd.to_datetime(data_train.Date).max()-timedelta(days=44)).date()\n",
    "split_val_date = (pd.to_datetime(data_train.Date).max()-timedelta(days=88)).date()\n",
    "print(split_test_date, split_val_date)\n",
    "\n",
    "# CORREGIR CÓMO TOMA LOS DÍAS PORQUE SON DÍAS HÁBILES NO CORRIDOS!!!\n",
    "# sklearn función split para series temporales"
   ]
  },
  {
   "cell_type": "code",
   "execution_count": 133,
   "id": "36bf62f6-c007-46fb-bd7d-e4ac445176ef",
   "metadata": {},
   "outputs": [
    {
     "name": "stdout",
     "output_type": "stream",
     "text": [
      "Tamaños data_test: 30 , data_val: 31 , data_train: 4059\n"
     ]
    }
   ],
   "source": [
    "# Separación de los últimos 30 días para test\n",
    "data_test = data_train.loc[(data_train.Date > str(split_test_date))]\n",
    "\n",
    "# Separación de los penúltimos 30 días para validación\n",
    "data_val = data_train.loc[(data_train.Date > str(split_val_date)) & (data_train.Date <= str(split_test_date))]\n",
    "\n",
    "# Uso el resto como entrenamiento\n",
    "data_train = data_train.loc[(data_train.Date <= str(split_val_date))]\n",
    "\n",
    "print('Tamaños data_test:', data_test.shape[0], ', data_val:' , data_val.shape[0], ', data_train:', data_train.shape[0])"
   ]
  },
  {
   "cell_type": "code",
   "execution_count": 134,
   "id": "d9d78b72-c7c3-4e94-b8a2-2470a7e33e8b",
   "metadata": {},
   "outputs": [],
   "source": [
    "# data_test.set_index('Date', inplace=True)\n",
    "# data_val.set_index('Date', inplace=True)\n",
    "# data_train.set_index('Date', inplace=True)"
   ]
  },
  {
   "cell_type": "code",
   "execution_count": 135,
   "id": "7b4e15d9-1cef-42c0-ac8b-92c24e664ef8",
   "metadata": {},
   "outputs": [
    {
     "data": {
      "text/html": [
       "<div>\n",
       "<style scoped>\n",
       "    .dataframe tbody tr th:only-of-type {\n",
       "        vertical-align: middle;\n",
       "    }\n",
       "\n",
       "    .dataframe tbody tr th {\n",
       "        vertical-align: top;\n",
       "    }\n",
       "\n",
       "    .dataframe thead th {\n",
       "        text-align: right;\n",
       "    }\n",
       "</style>\n",
       "<table border=\"1\" class=\"dataframe\">\n",
       "  <thead>\n",
       "    <tr style=\"text-align: right;\">\n",
       "      <th></th>\n",
       "      <th>Date</th>\n",
       "      <th>retornos_activo</th>\n",
       "      <th>retornos_mercado</th>\n",
       "    </tr>\n",
       "  </thead>\n",
       "  <tbody>\n",
       "    <tr>\n",
       "      <th>4090</th>\n",
       "      <td>2020-11-17</td>\n",
       "      <td>-0.630409</td>\n",
       "      <td>-0.955942</td>\n",
       "    </tr>\n",
       "    <tr>\n",
       "      <th>4091</th>\n",
       "      <td>2020-11-18</td>\n",
       "      <td>-1.320227</td>\n",
       "      <td>-1.286899</td>\n",
       "    </tr>\n",
       "    <tr>\n",
       "      <th>4092</th>\n",
       "      <td>2020-11-19</td>\n",
       "      <td>0.981235</td>\n",
       "      <td>1.654042</td>\n",
       "    </tr>\n",
       "    <tr>\n",
       "      <th>4093</th>\n",
       "      <td>2020-11-20</td>\n",
       "      <td>-1.231921</td>\n",
       "      <td>1.258414</td>\n",
       "    </tr>\n",
       "    <tr>\n",
       "      <th>4094</th>\n",
       "      <td>2020-11-23</td>\n",
       "      <td>-0.420732</td>\n",
       "      <td>-0.253308</td>\n",
       "    </tr>\n",
       "  </tbody>\n",
       "</table>\n",
       "</div>"
      ],
      "text/plain": [
       "           Date  retornos_activo  retornos_mercado\n",
       "4090 2020-11-17        -0.630409         -0.955942\n",
       "4091 2020-11-18        -1.320227         -1.286899\n",
       "4092 2020-11-19         0.981235          1.654042\n",
       "4093 2020-11-20        -1.231921          1.258414\n",
       "4094 2020-11-23        -0.420732         -0.253308"
      ]
     },
     "execution_count": 135,
     "metadata": {},
     "output_type": "execute_result"
    }
   ],
   "source": [
    "data_test.head()"
   ]
  },
  {
   "cell_type": "markdown",
   "id": "89ad9bc0-5e44-45ef-b979-a0040cc000af",
   "metadata": {},
   "source": [
    "### Regresión lineal"
   ]
  },
  {
   "cell_type": "code",
   "execution_count": 136,
   "id": "c8fed351-06cd-458d-a546-aae7911a78c9",
   "metadata": {},
   "outputs": [],
   "source": [
    "# Adopto una tasa libre de riesgo (1%) PREGUNTA: Cómo se elige este valor?\n",
    "r_f = 0.01\n",
    "\n",
    "X_train = np.array(data_train['retornos_mercado'].values - r_f)\n",
    "y_train = np.array(data_train['retornos_activo'].values - r_f)\n",
    "\n",
    "X_val = np.array(data_val['retornos_mercado'].values - r_f)\n",
    "y_val = np.array(data_val['retornos_activo'].values - r_f)\n",
    "\n",
    "X_test = np.array(data_val['retornos_mercado'].values - r_f)\n",
    "y_test = np.array(data_val['retornos_activo'].values - r_f)"
   ]
  },
  {
   "cell_type": "code",
   "execution_count": 137,
   "id": "8f0ad5ee-3d3e-4ba7-be18-31802105367b",
   "metadata": {},
   "outputs": [
    {
     "data": {
      "text/plain": [
       "(4059,)"
      ]
     },
     "execution_count": 137,
     "metadata": {},
     "output_type": "execute_result"
    }
   ],
   "source": [
    "X_train.shape"
   ]
  },
  {
   "cell_type": "code",
   "execution_count": 138,
   "id": "b6616038-724e-4ed9-812c-7d0b74d278c2",
   "metadata": {},
   "outputs": [],
   "source": [
    "def linear_least_squares(X, y, add_bias=True):\n",
    "    \n",
    "    if add_bias:\n",
    "        X_b = np.stack((X, np.ones(X.shape[0])), axis=1)  # add bias\n",
    "    else:\n",
    "        X_b = np.stack((X, np.zeros(X.shape[0])), axis=1) # anulo bias\n",
    "        \n",
    "    return np.linalg.pinv(X_b.T.dot(X_b)).dot(X_b.T.dot(y))\n",
    "\n",
    "# ---------------------------------------------------------------- #\n",
    "\n",
    "def f(X, w, add_bias=True):\n",
    "    \n",
    "    if add_bias:\n",
    "        X_b = np.stack((X, np.ones(X.shape[0])), axis=1)  # add bias: (1, x)\n",
    "    else:\n",
    "        X_b = np.stack((X, np.zeros(X.shape[0])), axis=1) # anulo bias\n",
    "        \n",
    "    return X_b.dot(w)"
   ]
  },
  {
   "cell_type": "markdown",
   "id": "603eecb4-3423-46ee-9678-a36996526123",
   "metadata": {},
   "source": [
    "### Entrenamiento"
   ]
  },
  {
   "cell_type": "code",
   "execution_count": 139,
   "id": "1d5b3a82-30e2-4452-9203-869e3158ebe6",
   "metadata": {},
   "outputs": [],
   "source": [
    "w = linear_least_squares(X_train, y_train, add_bias=False)"
   ]
  },
  {
   "cell_type": "code",
   "execution_count": 140,
   "id": "eddb362b-b401-47cc-9489-61e178fdb589",
   "metadata": {},
   "outputs": [
    {
     "data": {
      "text/plain": [
       "array([0.32515089, 0.        ])"
      ]
     },
     "execution_count": 140,
     "metadata": {},
     "output_type": "execute_result"
    }
   ],
   "source": [
    "w"
   ]
  },
  {
   "cell_type": "markdown",
   "id": "173b39c8-93b5-4e05-975d-8440ce36d542",
   "metadata": {},
   "source": [
    "Para el modelo CAPM serían `alpha` y `beta`"
   ]
  },
  {
   "cell_type": "markdown",
   "id": "e1bd82ab-e29f-498c-ac0f-80c4f11b7b92",
   "metadata": {},
   "source": [
    "### Graficación"
   ]
  },
  {
   "cell_type": "code",
   "execution_count": 141,
   "id": "062fb1d6-039e-49a2-9934-4eb16cbbdffc",
   "metadata": {},
   "outputs": [
    {
     "data": {
      "image/png": "[encoded data removed]",
      "text/plain": [
       "<Figure size 432x288 with 1 Axes>"
      ]
     },
     "metadata": {
      "needs_background": "light"
     },
     "output_type": "display_data"
    }
   ],
   "source": [
    "plt.scatter(X_train, y_train, color=\"blue\", label=\"train\")\n",
    "plt.scatter(X_val, y_val, color=\"white\", edgecolor=\"k\", label=\"validation\")\n",
    "plt.plot(X_val, f(X_val, w), color=\"red\", label=\"model\")\n",
    "plt.legend()\n",
    "plt.show()"
   ]
  },
  {
   "cell_type": "markdown",
   "id": "2fc96d29-a984-4d48-8c0b-d5d452513a04",
   "metadata": {},
   "source": [
    "### Evaluación en entrenamiento: Error Cuadrático Medio"
   ]
  },
  {
   "cell_type": "markdown",
   "id": "2e69ff16-9324-4f20-8868-4f1d63d53ba9",
   "metadata": {},
   "source": [
    "Se obtienen los valores predichos para los datos de entrenamiento y de validación. Calcularemos el error cuadrático medio sobre ambos conjuntos de datos. Luego haremos la predicción sobre el conjunto de testeo y calcularemos también el erro cuadrático medio.\n",
    "\n"
   ]
  },
  {
   "cell_type": "code",
   "execution_count": 142,
   "id": "853abeda-207d-4681-9bc1-635571032a0d",
   "metadata": {},
   "outputs": [],
   "source": [
    "y_train_pred = f(X_train, w, add_bias=False)\n",
    "y_val_pred = f(X_val, w, add_bias=False)"
   ]
  },
  {
   "cell_type": "code",
   "execution_count": 143,
   "id": "4eaad669-5172-4af5-b0ba-49a493e399f6",
   "metadata": {},
   "outputs": [
    {
     "name": "stdout",
     "output_type": "stream",
     "text": [
      "Train error: 3.079956\n",
      "Val error: 3.938921\n"
     ]
    }
   ],
   "source": [
    "from sklearn.metrics import mean_squared_error\n",
    "\n",
    "train_error = mean_squared_error(y_train, y_train_pred)\n",
    "val_error = mean_squared_error(y_val, y_val_pred)\n",
    "print(f'Train error: {train_error:f}')\n",
    "print(f'Val error: {val_error:f}')"
   ]
  },
  {
   "cell_type": "markdown",
   "id": "ab26a265-c177-4bf8-88f8-704ac82e8050",
   "metadata": {},
   "source": [
    "### Predicción y evaluación: Error Cuadrático Medio"
   ]
  },
  {
   "cell_type": "code",
   "execution_count": 144,
   "id": "956fe1eb-86dd-44a9-8f0b-69dff8605239",
   "metadata": {},
   "outputs": [],
   "source": [
    "y_train_pred = f(X_train, w, add_bias=False)\n",
    "y_test_pred = f(X_test, w, add_bias=False)"
   ]
  },
  {
   "cell_type": "code",
   "execution_count": 145,
   "id": "37b301d8-24f4-4492-8d54-f52f67d74924",
   "metadata": {},
   "outputs": [
    {
     "name": "stdout",
     "output_type": "stream",
     "text": [
      "Train error: 3.079956\n",
      "Val error: 3.938921\n"
     ]
    }
   ],
   "source": [
    "from sklearn.metrics import mean_squared_error\n",
    "\n",
    "train_error = mean_squared_error(y_train, y_train_pred)\n",
    "test_error = mean_squared_error(y_test, y_test_pred)\n",
    "print(f'Train error: {train_error:f}')\n",
    "print(f'Val error: {test_error:f}')"
   ]
  },
  {
   "cell_type": "code",
   "execution_count": 146,
   "id": "29e6212d-64d6-4743-96fa-20036b660e1c",
   "metadata": {},
   "outputs": [],
   "source": [
    "# CONSULTAR POR QUE DAN IGUAL??? ESTÁ BIEN PLANTEADO CONCEPTUALMENTE EL CALCULO DE ERROR DE VALIDACION Y TEST???"
   ]
  },
  {
   "cell_type": "markdown",
   "id": "8c0d33ee-0eef-4b56-a983-2f1d2b089b60",
   "metadata": {},
   "source": [
    "### 4.1 ) Determinación de alpha y beta: Método mínimos cuadrados [Fórmula cerrada Modelo Lineal]"
   ]
  },
  {
   "cell_type": "markdown",
   "id": "981ad608-6541-42fb-81ef-532e14e94564",
   "metadata": {},
   "source": [
    "### Regresión lineal"
   ]
  },
  {
   "cell_type": "code",
   "execution_count": 147,
   "id": "0656770b-e510-4d4f-8c4b-c7ac630ccc40",
   "metadata": {},
   "outputs": [
    {
     "name": "stdout",
     "output_type": "stream",
     "text": [
      "alpha = 0.06260660132086379\n",
      "beta = 0.32525065532946357\n",
      "correlation = 0.4152904414742564\n"
     ]
    }
   ],
   "source": [
    "# VER HOJA ESCRITA A MANO\n",
    "# Adopto una tasa libre de riesgo (1%) PREGUNTA: Cómo se elige este valor?\n",
    "r_f = 0.01\n",
    "\n",
    "train_test = retornos_concat\n",
    "x_i = np.array(train_test['retornos_mercado'].values - r_f)\n",
    "y_i = np.array(train_test['retornos_activo'].values - r_f)\n",
    "n = len(x_i)\n",
    "\n",
    "beta = (sum(y_i * x_i) - n * np.mean(y_i) * np.mean(x_i))/ (sum(x_i**2) - n * (np.mean(x_i)**2))\n",
    "alpha = np.mean(y_i) - beta * np.mean(x_i)\n",
    "\n",
    "y_i_pred = alpha + beta * x_i\n",
    "\n",
    "correlation = np.corrcoef(y_i, y_i_pred)[0,1]\n",
    "\n",
    "print('alpha =', alpha)\n",
    "print('beta =', beta)\n",
    "print('correlation =', correlation)"
   ]
  },
  {
   "cell_type": "markdown",
   "id": "c23c98d5-89af-4445-814a-1bb47820881d",
   "metadata": {},
   "source": [
    "### Graficación"
   ]
  },
  {
   "cell_type": "code",
   "execution_count": 148,
   "id": "d87223b3-0dd6-421f-b199-48855e03291a",
   "metadata": {},
   "outputs": [
    {
     "data": {
      "text/plain": [
       "<matplotlib.legend.Legend at 0x201100f1fd0>"
      ]
     },
     "execution_count": 148,
     "metadata": {},
     "output_type": "execute_result"
    },
    {
     "data": {
      "image/png": "[encoded data removed]",
      "text/plain": [
       "<Figure size 432x432 with 1 Axes>"
      ]
     },
     "metadata": {
      "needs_background": "light"
     },
     "output_type": "display_data"
    }
   ],
   "source": [
    "plt.figure(figsize=(6, 6))\n",
    "plt.scatter(data=retornos_concat, x='retornos_activo', y='retornos_mercado', color=\"blue\", label='train')\n",
    "plt.plot(x_i, y_i_pred, color='red', label='model')\n",
    "plt.legend()"
   ]
  },
  {
   "cell_type": "markdown",
   "id": "dac43eb5-f83d-4822-a44f-c98c35c4abcd",
   "metadata": {},
   "source": [
    "### 4.2 ) Determinación de alpha y beta: Método mínimos cuadrados [Entrenamiento]"
   ]
  },
  {
   "cell_type": "markdown",
   "id": "a91ad58e-694e-4a96-b1c4-f8eb1292f80f",
   "metadata": {},
   "source": [
    "REPETIR LO MISMO QUE PASOS 3.1) PERO LLAMANDO LAS FUNCIONES DE LA SIGUIENTE MANERA (con add_bias=True para\n",
    "que el modelo considere el término de ordenada al origen):\n",
    "\n",
    "linear_least_squares(X, y, add_bias=True)\n",
    "\n",
    "f(X, w, add_bias=True)"
   ]
  },
  {
   "cell_type": "markdown",
   "id": "novel-double",
   "metadata": {},
   "source": [
    "### Modelos Autorregresivos para predecir precios.\n",
    "\n",
    "Para esta parte del práctico, nos gustaría utilizar precios del pasado para poder estimar cuál va a ser el precio de una acción más adelante. Las regresiones que vemos en la introducción al aprendizaje automático no son las mismas que deben usarse cuando estamos trabajando con precios de mercado, ya que estos datos son series de tiempo. Para trabajar con este tipo de datos, es necesario generar **modelos autorregresivos**.\n",
    "\n",
    "Si suponemos que $y_t$ es el precio de nuestra acción en el tiempo $t$, podemos generar el siguiente modelo autorregresivo:\n",
    "\n",
    "$$\n",
    "y_t = \\delta + \\phi_1 y_{t-1} + \\dots + \\phi_p y_{t-p} + \\epsilon_t\n",
    "$$\n",
    "\n",
    "Existen otras variables que podemos agregar (como estacionariedad o tendencias), pero para este práctico podemos usar solamente el modelo `AutoReg` de la librería StatsModels: https://www.statsmodels.org/stable/examples/notebooks/generated/autoregressions.html.\n",
    "\n",
    "El **ejercicio** para esta sección es crear una función que reciba 4 parámetros:\n",
    "- El *ticker* de un activo.\n",
    "- Una *fecha* a partir de la cual se van a querer predecir los precios del activo.\n",
    "- Un *número de días* hacia atrás que se van a usar para ajustar el modelo autorregresivo.\n",
    "- Un *número de días* hacia adelante para los cuales van a querer predecir el precio del activo utilizando el modelo entrenado.\n",
    "\n",
    "Esta función se debe encargar de buscar los precios del ticker, realizar el ajuste y predecir el precio de la acción hacia delante. Además, debe devolver el [error cuadrático medio](https://es.wikipedia.org/wiki/Error_cuadr%C3%A1tico_medio) de la predicción, comparado con los verdaderos precios del activo.\n",
    "\n",
    "¿Qué pasa si tratamos de predecir el precio del SPY el día antes del primer cisne negro de 2020 con un modelo que use 15 días hacia atrás?"
   ]
  },
  {
   "cell_type": "markdown",
   "id": "daff9b1b-90a4-4be6-bf31-a8db0513738b",
   "metadata": {},
   "source": [
    "### 0) Importación de datos"
   ]
  },
  {
   "cell_type": "code",
   "execution_count": 149,
   "id": "fabulous-empty",
   "metadata": {},
   "outputs": [
    {
     "name": "stdout",
     "output_type": "stream",
     "text": [
      "[*********************100%***********************]  1 of 1 completed\n"
     ]
    },
    {
     "data": {
      "text/html": [
       "<div>\n",
       "<style scoped>\n",
       "    .dataframe tbody tr th:only-of-type {\n",
       "        vertical-align: middle;\n",
       "    }\n",
       "\n",
       "    .dataframe tbody tr th {\n",
       "        vertical-align: top;\n",
       "    }\n",
       "\n",
       "    .dataframe thead th {\n",
       "        text-align: right;\n",
       "    }\n",
       "</style>\n",
       "<table border=\"1\" class=\"dataframe\">\n",
       "  <thead>\n",
       "    <tr style=\"text-align: right;\">\n",
       "      <th></th>\n",
       "      <th>Open</th>\n",
       "      <th>High</th>\n",
       "      <th>Low</th>\n",
       "      <th>Close</th>\n",
       "      <th>Adj Close</th>\n",
       "      <th>Volume</th>\n",
       "    </tr>\n",
       "    <tr>\n",
       "      <th>Date</th>\n",
       "      <th></th>\n",
       "      <th></th>\n",
       "      <th></th>\n",
       "      <th></th>\n",
       "      <th></th>\n",
       "      <th></th>\n",
       "    </tr>\n",
       "  </thead>\n",
       "  <tbody>\n",
       "    <tr>\n",
       "      <th>2000-01-03</th>\n",
       "      <td>148.25000</td>\n",
       "      <td>148.25000</td>\n",
       "      <td>143.875000</td>\n",
       "      <td>145.43750</td>\n",
       "      <td>97.506668</td>\n",
       "      <td>8164300</td>\n",
       "    </tr>\n",
       "    <tr>\n",
       "      <th>2000-01-04</th>\n",
       "      <td>143.53125</td>\n",
       "      <td>144.06250</td>\n",
       "      <td>139.640625</td>\n",
       "      <td>139.75000</td>\n",
       "      <td>93.693573</td>\n",
       "      <td>8089800</td>\n",
       "    </tr>\n",
       "    <tr>\n",
       "      <th>2000-01-05</th>\n",
       "      <td>139.93750</td>\n",
       "      <td>141.53125</td>\n",
       "      <td>137.250000</td>\n",
       "      <td>140.00000</td>\n",
       "      <td>93.861176</td>\n",
       "      <td>12177900</td>\n",
       "    </tr>\n",
       "    <tr>\n",
       "      <th>2000-01-06</th>\n",
       "      <td>139.62500</td>\n",
       "      <td>141.50000</td>\n",
       "      <td>137.750000</td>\n",
       "      <td>137.75000</td>\n",
       "      <td>92.352676</td>\n",
       "      <td>6227200</td>\n",
       "    </tr>\n",
       "    <tr>\n",
       "      <th>2000-01-07</th>\n",
       "      <td>140.31250</td>\n",
       "      <td>145.75000</td>\n",
       "      <td>140.062500</td>\n",
       "      <td>145.75000</td>\n",
       "      <td>97.716209</td>\n",
       "      <td>8066500</td>\n",
       "    </tr>\n",
       "    <tr>\n",
       "      <th>2000-01-10</th>\n",
       "      <td>146.25000</td>\n",
       "      <td>146.90625</td>\n",
       "      <td>145.031250</td>\n",
       "      <td>146.25000</td>\n",
       "      <td>98.051422</td>\n",
       "      <td>5741700</td>\n",
       "    </tr>\n",
       "    <tr>\n",
       "      <th>2000-01-11</th>\n",
       "      <td>145.81250</td>\n",
       "      <td>146.09375</td>\n",
       "      <td>143.500000</td>\n",
       "      <td>144.50000</td>\n",
       "      <td>96.878143</td>\n",
       "      <td>7503700</td>\n",
       "    </tr>\n",
       "    <tr>\n",
       "      <th>2000-01-12</th>\n",
       "      <td>144.59375</td>\n",
       "      <td>144.59375</td>\n",
       "      <td>142.875000</td>\n",
       "      <td>143.06250</td>\n",
       "      <td>95.914406</td>\n",
       "      <td>6907700</td>\n",
       "    </tr>\n",
       "    <tr>\n",
       "      <th>2000-01-13</th>\n",
       "      <td>144.46875</td>\n",
       "      <td>145.75000</td>\n",
       "      <td>143.281250</td>\n",
       "      <td>145.00000</td>\n",
       "      <td>97.213379</td>\n",
       "      <td>5158300</td>\n",
       "    </tr>\n",
       "    <tr>\n",
       "      <th>2000-01-14</th>\n",
       "      <td>146.53125</td>\n",
       "      <td>147.46875</td>\n",
       "      <td>145.968750</td>\n",
       "      <td>146.96875</td>\n",
       "      <td>98.533318</td>\n",
       "      <td>7437300</td>\n",
       "    </tr>\n",
       "  </tbody>\n",
       "</table>\n",
       "</div>"
      ],
      "text/plain": [
       "                 Open       High         Low      Close  Adj Close    Volume\n",
       "Date                                                                        \n",
       "2000-01-03  148.25000  148.25000  143.875000  145.43750  97.506668   8164300\n",
       "2000-01-04  143.53125  144.06250  139.640625  139.75000  93.693573   8089800\n",
       "2000-01-05  139.93750  141.53125  137.250000  140.00000  93.861176  12177900\n",
       "2000-01-06  139.62500  141.50000  137.750000  137.75000  92.352676   6227200\n",
       "2000-01-07  140.31250  145.75000  140.062500  145.75000  97.716209   8066500\n",
       "2000-01-10  146.25000  146.90625  145.031250  146.25000  98.051422   5741700\n",
       "2000-01-11  145.81250  146.09375  143.500000  144.50000  96.878143   7503700\n",
       "2000-01-12  144.59375  144.59375  142.875000  143.06250  95.914406   6907700\n",
       "2000-01-13  144.46875  145.75000  143.281250  145.00000  97.213379   5158300\n",
       "2000-01-14  146.53125  147.46875  145.968750  146.96875  98.533318   7437300"
      ]
     },
     "execution_count": 149,
     "metadata": {},
     "output_type": "execute_result"
    }
   ],
   "source": [
    "yf.pdr_override()\n",
    "\n",
    "start_date = \"2000-01-01\"\n",
    "end_date = \"2020-12-31\"\n",
    "\n",
    "df = pdr.get_data_yahoo(\"SPY\", start=start_date, end=end_date)\n",
    "\n",
    "df.head(10)"
   ]
  },
  {
   "cell_type": "markdown",
   "id": "26d22b06-ea54-4ac8-bfa4-24a0aa0527d0",
   "metadata": {},
   "source": [
    "### 1) Preparación de datos"
   ]
  },
  {
   "cell_type": "markdown",
   "id": "4cd8cfba-57f9-4a8d-8714-da312426c532",
   "metadata": {},
   "source": [
    "Como lo que se quiere es predecir el precio `Adj Close` en base a valores del pasado, se trabaja sobre los precios del activo y no sobre el espacio de retornos (pct_change)."
   ]
  },
  {
   "cell_type": "code",
   "execution_count": 150,
   "id": "8cfde77b-c5dc-4950-890d-f28d9b3f9664",
   "metadata": {},
   "outputs": [
    {
     "data": {
      "text/html": [
       "<div>\n",
       "<style scoped>\n",
       "    .dataframe tbody tr th:only-of-type {\n",
       "        vertical-align: middle;\n",
       "    }\n",
       "\n",
       "    .dataframe tbody tr th {\n",
       "        vertical-align: top;\n",
       "    }\n",
       "\n",
       "    .dataframe thead th {\n",
       "        text-align: right;\n",
       "    }\n",
       "</style>\n",
       "<table border=\"1\" class=\"dataframe\">\n",
       "  <thead>\n",
       "    <tr style=\"text-align: right;\">\n",
       "      <th></th>\n",
       "      <th>Date</th>\n",
       "      <th>Adj Close</th>\n",
       "    </tr>\n",
       "  </thead>\n",
       "  <tbody>\n",
       "    <tr>\n",
       "      <th>0</th>\n",
       "      <td>2000-01-03</td>\n",
       "      <td>97.506668</td>\n",
       "    </tr>\n",
       "    <tr>\n",
       "      <th>1</th>\n",
       "      <td>2000-01-04</td>\n",
       "      <td>93.693573</td>\n",
       "    </tr>\n",
       "    <tr>\n",
       "      <th>2</th>\n",
       "      <td>2000-01-05</td>\n",
       "      <td>93.861176</td>\n",
       "    </tr>\n",
       "    <tr>\n",
       "      <th>3</th>\n",
       "      <td>2000-01-06</td>\n",
       "      <td>92.352676</td>\n",
       "    </tr>\n",
       "    <tr>\n",
       "      <th>4</th>\n",
       "      <td>2000-01-07</td>\n",
       "      <td>97.716209</td>\n",
       "    </tr>\n",
       "    <tr>\n",
       "      <th>5</th>\n",
       "      <td>2000-01-10</td>\n",
       "      <td>98.051422</td>\n",
       "    </tr>\n",
       "    <tr>\n",
       "      <th>6</th>\n",
       "      <td>2000-01-11</td>\n",
       "      <td>96.878143</td>\n",
       "    </tr>\n",
       "    <tr>\n",
       "      <th>7</th>\n",
       "      <td>2000-01-12</td>\n",
       "      <td>95.914406</td>\n",
       "    </tr>\n",
       "    <tr>\n",
       "      <th>8</th>\n",
       "      <td>2000-01-13</td>\n",
       "      <td>97.213379</td>\n",
       "    </tr>\n",
       "    <tr>\n",
       "      <th>9</th>\n",
       "      <td>2000-01-14</td>\n",
       "      <td>98.533318</td>\n",
       "    </tr>\n",
       "  </tbody>\n",
       "</table>\n",
       "</div>"
      ],
      "text/plain": [
       "        Date  Adj Close\n",
       "0 2000-01-03  97.506668\n",
       "1 2000-01-04  93.693573\n",
       "2 2000-01-05  93.861176\n",
       "3 2000-01-06  92.352676\n",
       "4 2000-01-07  97.716209\n",
       "5 2000-01-10  98.051422\n",
       "6 2000-01-11  96.878143\n",
       "7 2000-01-12  95.914406\n",
       "8 2000-01-13  97.213379\n",
       "9 2000-01-14  98.533318"
      ]
     },
     "execution_count": 150,
     "metadata": {},
     "output_type": "execute_result"
    }
   ],
   "source": [
    "prices = df[['Adj Close']]\n",
    "# prices = prices.asfreq(freq ='D', fill_value = .0) # Ver si esto es necesario o no. Rellena valores faltantes (fines de semana) con 0.\n",
    "\n",
    "prices.reset_index(level='Date', inplace=True)\n",
    "prices.set_index('Date')\n",
    "\n",
    "prices.head(10)"
   ]
  },
  {
   "cell_type": "markdown",
   "id": "07b385db-e973-4bb6-8323-7cc1ca426795",
   "metadata": {},
   "source": [
    "### 2) Chequeo rápido de autocorrelación"
   ]
  },
  {
   "cell_type": "markdown",
   "id": "15cbfbb2-ed1c-48c6-a129-94e26d524937",
   "metadata": {},
   "source": [
    "Hay una verificación visual rápida que podemos hacer para ver si hay una autocorrelación en nuestro conjunto de datos de series de tiempo.\n",
    "\n",
    "Podemos graficar la observación en el paso de tiempo anterior (t-1) con la observación en el siguiente paso de tiempo (t + 1) como un diagrama de dispersión.\n",
    "\n",
    "Esto se puede hacer manualmente creando primero una versión de retraso (shift) del conjunto de datos de series de tiempo y usando una función de diagrama de dispersión incorporada en la biblioteca de Pandas.\n",
    "\n",
    "Pero hay una manera más fácil. Pandas proporciona una gráfica incorporada para hacer exactamente esto, llamada función lag_plot ()."
   ]
  },
  {
   "cell_type": "code",
   "execution_count": 151,
   "id": "2376ae5d-b8c1-42aa-8b2c-66988b5ac309",
   "metadata": {},
   "outputs": [
    {
     "data": {
      "image/png": "[encoded data removed]",
      "text/plain": [
       "<Figure size 576x576 with 1 Axes>"
      ]
     },
     "metadata": {
      "needs_background": "light"
     },
     "output_type": "display_data"
    }
   ],
   "source": [
    "from pandas.plotting import lag_plot\n",
    "\n",
    "plt.figure(figsize=(8, 8))\n",
    "lag_plot(prices['Adj Close'])\n",
    "plt.show()"
   ]
  },
  {
   "cell_type": "markdown",
   "id": "93ca41f4-0820-4015-b5ef-9d7c07f72168",
   "metadata": {},
   "source": [
    "A simple vista puede observarse una correlación entre los datos. Numéricamente, esto puede cuantificarse mediante el coeficiente Pearson, que se determina a contninuación."
   ]
  },
  {
   "cell_type": "code",
   "execution_count": 152,
   "id": "27af64f6-cbb4-4499-a333-059e76ab7d96",
   "metadata": {},
   "outputs": [
    {
     "name": "stdout",
     "output_type": "stream",
     "text": [
      "          t-1       t+1\n",
      "t-1  1.000000  0.999691\n",
      "t+1  0.999691  1.000000\n"
     ]
    }
   ],
   "source": [
    "corr_data = pd.concat([prices['Adj Close'].shift(1), prices['Adj Close']], axis=1)\n",
    "corr_data.columns = ['t-1', 't+1']\n",
    "result = corr_data.corr()\n",
    "print(result)"
   ]
  },
  {
   "cell_type": "markdown",
   "id": "cf74daf3-5fd7-49fc-9a0d-75cd1021cb9c",
   "metadata": {},
   "source": [
    "Se observa una alta correlación positiva (0.999)"
   ]
  },
  {
   "cell_type": "markdown",
   "id": "c42917c9-0104-4c6f-8bba-af28e018cf0b",
   "metadata": {},
   "source": [
    "### 3) Modelo"
   ]
  },
  {
   "cell_type": "markdown",
   "id": "ccef55eb-9849-4c62-b706-31299293d835",
   "metadata": {},
   "source": [
    "### Separación de conjuntos train y test"
   ]
  },
  {
   "cell_type": "code",
   "execution_count": 153,
   "id": "e8861a97-4198-486e-8ff8-99a5560b5c6b",
   "metadata": {},
   "outputs": [
    {
     "name": "stdout",
     "output_type": "stream",
     "text": [
      "Fecha máxima y mínima:\n"
     ]
    },
    {
     "data": {
      "text/plain": [
       "(Timestamp('2000-01-03 00:00:00'), Timestamp('2020-12-30 00:00:00'))"
      ]
     },
     "execution_count": 153,
     "metadata": {},
     "output_type": "execute_result"
    }
   ],
   "source": [
    "print('Fecha máxima y mínima:')\n",
    "prices.Date.min(), prices.Date.max()"
   ]
  },
  {
   "cell_type": "code",
   "execution_count": 154,
   "id": "64facafe-87cd-4321-99ad-bcc422f93c99",
   "metadata": {},
   "outputs": [
    {
     "name": "stdout",
     "output_type": "stream",
     "text": [
      "Cantidad de días: 5283\n"
     ]
    }
   ],
   "source": [
    "print('Cantidad de días:' , prices.shape[0])"
   ]
  },
  {
   "cell_type": "code",
   "execution_count": 201,
   "id": "8730464d-761f-44ee-a1f2-a2bede3b52e4",
   "metadata": {},
   "outputs": [
    {
     "name": "stdout",
     "output_type": "stream",
     "text": [
      "2019-12-16 2020-01-09\n",
      "Tamaños data_test: 10 , data_val: 6\n"
     ]
    },
    {
     "data": {
      "text/html": [
       "<div>\n",
       "<style scoped>\n",
       "    .dataframe tbody tr th:only-of-type {\n",
       "        vertical-align: middle;\n",
       "    }\n",
       "\n",
       "    .dataframe tbody tr th {\n",
       "        vertical-align: top;\n",
       "    }\n",
       "\n",
       "    .dataframe thead th {\n",
       "        text-align: right;\n",
       "    }\n",
       "</style>\n",
       "<table border=\"1\" class=\"dataframe\">\n",
       "  <thead>\n",
       "    <tr style=\"text-align: right;\">\n",
       "      <th></th>\n",
       "      <th>Date</th>\n",
       "      <th>Adj Close</th>\n",
       "    </tr>\n",
       "  </thead>\n",
       "  <tbody>\n",
       "    <tr>\n",
       "      <th>5021</th>\n",
       "      <td>2019-12-17</td>\n",
       "      <td>310.142944</td>\n",
       "    </tr>\n",
       "    <tr>\n",
       "      <th>5022</th>\n",
       "      <td>2019-12-18</td>\n",
       "      <td>310.162323</td>\n",
       "    </tr>\n",
       "    <tr>\n",
       "      <th>5023</th>\n",
       "      <td>2019-12-19</td>\n",
       "      <td>311.433685</td>\n",
       "    </tr>\n",
       "    <tr>\n",
       "      <th>5024</th>\n",
       "      <td>2019-12-20</td>\n",
       "      <td>312.799042</td>\n",
       "    </tr>\n",
       "    <tr>\n",
       "      <th>5025</th>\n",
       "      <td>2019-12-23</td>\n",
       "      <td>313.276947</td>\n",
       "    </tr>\n",
       "  </tbody>\n",
       "</table>\n",
       "</div>"
      ],
      "text/plain": [
       "           Date   Adj Close\n",
       "5021 2019-12-17  310.142944\n",
       "5022 2019-12-18  310.162323\n",
       "5023 2019-12-19  311.433685\n",
       "5024 2019-12-20  312.799042\n",
       "5025 2019-12-23  313.276947"
      ]
     },
     "execution_count": 201,
     "metadata": {},
     "output_type": "execute_result"
    }
   ],
   "source": [
    "# train: n días antes del conjunto train separado en una fecha fijada\n",
    "# test: n días posteriores del conjunto test separado en la misma fecha fijada\n",
    "\n",
    "date_split = \"2020-01-01\" # ingresar fecha de separación\n",
    "n_back = 15 # días atrás para definir fecha de inicio de data_train (no es la cantidad de datos)\n",
    "n_forward = 7 # días adelante para definir fecha de fin data_test (no es la cantidad de datos)\n",
    "\n",
    "data_train = prices.loc[(prices.Date <= str(date_split))]\n",
    "data_test = prices.loc[(prices.Date > str(date_split))]\n",
    "\n",
    "limit_train_date = (pd.to_datetime(data_train.Date).max()-timedelta(days=n_back)).date()\n",
    "limit_test_date = (pd.to_datetime(data_test.Date).min()+timedelta(days=n_forward)).date()\n",
    "print(limit_train_date, limit_test_date)\n",
    "\n",
    "# Redefino data_train y data_test\n",
    "data_train = data_train.loc[(data_train.Date > str(limit_train_date)) & (data_train.Date <= str(date_split))]\n",
    "data_test = data_test.loc[(data_test.Date > str(date_split)) & (data_test.Date <= str(limit_test_date))]\n",
    "\n",
    "print('Tamaños data_test:', data_train.shape[0], ', data_val:' , data_test.shape[0])\n",
    "data_train.head()"
   ]
  },
  {
   "cell_type": "markdown",
   "id": "cfc9fe21-5786-4ebf-9bf7-635064d9309b",
   "metadata": {},
   "source": [
    "Se observa que asignar un número muy grande a `n_back` genera overfitting en el modelo y la predicción tiene mucho error. El orden de `n_back` debe ser similar al valor de `n_forward`."
   ]
  },
  {
   "cell_type": "markdown",
   "id": "c93a092e-d725-4ce4-98a8-4dcaf745993a",
   "metadata": {},
   "source": [
    "### Entrenamiento"
   ]
  },
  {
   "cell_type": "code",
   "execution_count": 208,
   "id": "0912f3b2-c310-4141-8c73-f8e0da43d343",
   "metadata": {},
   "outputs": [],
   "source": [
    "# https://www.statsmodels.org/stable/generated/statsmodels.tsa.ar_model.AutoReg.html\n",
    "\n",
    "from statsmodels.tsa.ar_model import AutoReg\n",
    "\n",
    "values_train = data_train['Adj Close'].values\n",
    "values_test = data_test['Adj Close'].values\n",
    "\n",
    "n_lags = 3 # CONSULTAR QUÉ ES ESTE PARÁMETRO\n",
    "\n",
    "model = AutoReg(values_train, lags=n_lags, old_names=False)\n",
    "model_fit = model.fit()\n",
    "# print(model_fit.summary())"
   ]
  },
  {
   "cell_type": "code",
   "execution_count": 209,
   "id": "ae12d356-f43f-4443-8bfd-a31624860368",
   "metadata": {},
   "outputs": [
    {
     "name": "stdout",
     "output_type": "stream",
     "text": [
      "Coefficients: [175.09732099   0.45656126  -0.72659607   0.71397226]\n"
     ]
    }
   ],
   "source": [
    "print('Coefficients: %s' % model_fit.params)"
   ]
  },
  {
   "cell_type": "markdown",
   "id": "1d66f14e-03ad-4e1a-95ec-fb9baac37132",
   "metadata": {},
   "source": [
    "### Predicción"
   ]
  },
  {
   "cell_type": "code",
   "execution_count": 210,
   "id": "1c5d577a-8029-45bb-b17a-3e86d41e8b83",
   "metadata": {},
   "outputs": [
    {
     "name": "stdout",
     "output_type": "stream",
     "text": [
      "predicted=315.698791, expected=187.155869\n",
      "predicted=314.727450, expected=184.916351\n",
      "predicted=313.520834, expected=185.415070\n",
      "predicted=314.959241, expected=184.979843\n",
      "predicted=315.799174, expected=186.702530\n",
      "predicted=314.276024, expected=188.588394\n",
      "Test RMSE: 2.031\n"
     ]
    }
   ],
   "source": [
    "from sklearn.metrics import mean_squared_error\n",
    "from math import sqrt\n",
    "\n",
    "predictions = model_fit.predict(start=len(values_train), end=len(values_train)+len(values_test)-1, dynamic=False)\n",
    "\n",
    "for i in range(len(predictions)):\n",
    "    print('predicted=%f, expected=%f' % (predictions[i], values[i]))\n",
    "\n",
    "rmse = sqrt(mean_squared_error(values_test, predictions))\n",
    "\n",
    "print('Test RMSE: %.3f' % rmse)"
   ]
  },
  {
   "cell_type": "markdown",
   "id": "ca9a1021-0702-405a-9a17-8599a36c8602",
   "metadata": {},
   "source": [
    "### 4) Graficación"
   ]
  },
  {
   "cell_type": "code",
   "execution_count": 222,
   "id": "2ea9d072-0705-4ddf-b376-31635039d84f",
   "metadata": {},
   "outputs": [
    {
     "data": {
      "image/png": "[encoded data removed]",
      "text/plain": [
       "<Figure size 1152x432 with 1 Axes>"
      ]
     },
     "metadata": {},
     "output_type": "display_data"
    }
   ],
   "source": [
    "plt.plot(data_test.Date, values_test)\n",
    "plt.plot(data_test.Date, predictions, color='red')\n",
    "plt.xlabel(\"days_predicted\")\n",
    "plt.ylabel(\"Adj Close\")\n",
    "plt.show()"
   ]
  },
  {
   "cell_type": "code",
   "execution_count": 223,
   "id": "215bf8d1-85f4-4172-84ea-bf0b60db8b0e",
   "metadata": {},
   "outputs": [
    {
     "data": {
      "image/png": "[encoded data removed]",
      "text/plain": [
       "<Figure size 1152x648 with 4 Axes>"
      ]
     },
     "metadata": {},
     "output_type": "display_data"
    }
   ],
   "source": [
    "# Diagnóstico\n",
    "\n",
    "fig = plt.figure(figsize=(16,9))\n",
    "fig = model_fit.plot_diagnostics(fig=fig, lags=n_lags)"
   ]
  },
  {
   "cell_type": "markdown",
   "id": "300abf88-2ef2-4964-83e9-ea7d896a2cbd",
   "metadata": {},
   "source": [
    "### 5) PENDIENTE: ARMAR FUNCIÓN QUE HAGA TODO ESTE PROCESO"
   ]
  },
  {
   "cell_type": "markdown",
   "id": "beginning-repository",
   "metadata": {},
   "source": [
    "### Árboles de Decisión para predecir suba o baja.\n",
    "\n",
    "Venimos trabajando los precios con valores continuos, pero otra forma de verlos podría ser convirtiendolos en, por ejemplo, -1 y 1 para saber si el precio está en suba o en baja. De esta forma obtenemos un problema de clasificación que nos permite mirar los datos desde otra perspectiva.\n",
    "\n",
    "- Etiqueten los datos con 1 si [pct_change](https://pandas.pydata.org/docs/reference/api/pandas.DataFrame.pct_change.html) es mayor a cero y 0, -1 si no.\n",
    "- Entrenen un árbol de decisión que prediga si el valor de un activo va a subir o bajar.\n",
    "- Reporten las siguientes métricas sobre el modelo resultante.\n",
    "\n",
    "    - Accuracy\n",
    "    - Precision\n",
    "    - Recall\n",
    "    - F1\n",
    "    - matriz de confusión"
   ]
  },
  {
   "cell_type": "code",
   "execution_count": null,
   "id": "complicated-planet",
   "metadata": {},
   "outputs": [],
   "source": [
    "# Desafío: cómo etiquetar el dataset. Hecho en base a pct_change\n",
    "# usar shift para asignar etiqueta. pct_change de hoy asignar a día siguiente .shift(-1)\n",
    "# agregar columnas con precios_adj shifteados (hoy, ayer, anteayer) o usar varias columnas no solo adj_close. \n",
    "# tener en cuenta el balance del dataset (que haya similar cantidad de 1 y -1)"
   ]
  },
  {
   "cell_type": "markdown",
   "id": "boolean-reward",
   "metadata": {},
   "source": [
    "El etiquetado de datos no suele ser trivial dado a que depende de la naturaleza de los datos. Posiblemente, el precio de un activo suba un poco pero luego continue su declive ¿Cuánto tiene que subir/bajar un precio para ser considerado \"suba\"/\"baja\"?. ¿Tiene sentido tomar \"periodos de suba/baja\" más grandes para predecir si el comportamiento del activo en el futuro?. ¿Se podría utilizar un enfoque más estadístico para elegir el etiquetado?.\n",
    "\n",
    "Aplicar GridSearch sobre los parámetros y luego para la mejor configuración encontrada, evaluar sobre el conjunto de entrenamiento y sobre el conjunto de evaluación, reportando:\n",
    "\n",
    "- Accuracy\n",
    "- Precision\n",
    "- Recall\n",
    "- F1\n",
    "- matriz de confusión"
   ]
  },
  {
   "cell_type": "code",
   "execution_count": null,
   "id": "forbidden-shoot",
   "metadata": {},
   "outputs": [],
   "source": []
  }
 ],
 "metadata": {
  "kernelspec": {
   "display_name": "Python 3",
   "language": "python",
   "name": "python3"
  },
  "language_info": {
   "codemirror_mode": {
    "name": "ipython",
    "version": 3
   },
   "file_extension": ".py",
   "mimetype": "text/x-python",
   "name": "python",
   "nbconvert_exporter": "python",
   "pygments_lexer": "ipython3",
   "version": "3.6.13"
  }
 },
 "nbformat": 4,
 "nbformat_minor": 5
}
